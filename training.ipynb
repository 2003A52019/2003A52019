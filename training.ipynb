{
  "cells": [
    {
      "cell_type": "markdown",
      "metadata": {
        "id": "view-in-github",
        "colab_type": "text"
      },
      "source": [
        "<a href=\"https://colab.research.google.com/github/2003A52019/2003A52019/blob/main/training.ipynb\" target=\"_parent\"><img src=\"https://colab.research.google.com/assets/colab-badge.svg\" alt=\"Open In Colab\"/></a>"
      ]
    },
    {
      "cell_type": "code",
      "execution_count": null,
      "metadata": {
        "colab": {
          "base_uri": "https://localhost:8080/"
        },
        "id": "GHzrwo0G68at",
        "outputId": "d1be2d09-25e0-4cd6-93d8-f4d5b6e647f9"
      },
      "outputs": [
        {
          "name": "stdout",
          "output_type": "stream",
          "text": [
            "enter number23\n",
            "5\n",
            "not nivens number\n"
          ]
        }
      ],
      "source": [
        "num=int(input(\"enter number\"))\n",
        "sum=0\n",
        "rem=0\n",
        "temp=num\n",
        "while(temp>0):\n",
        "  rem=temp%10\n",
        "  sum=sum+rem\n",
        "  temp=temp//10\n",
        "print(sum)\n",
        "if(num%sum==0):\n",
        "  print(\"nivens number\")\n",
        "else:\n",
        "  print(\"not nivens number\")"
      ]
    },
    {
      "cell_type": "code",
      "execution_count": null,
      "metadata": {
        "colab": {
          "base_uri": "https://localhost:8080/"
        },
        "id": "p0pIpdCD8hQj",
        "outputId": "00f738cb-a6c3-4adf-dc67-0276862bfe45"
      },
      "outputs": [
        {
          "name": "stdout",
          "output_type": "stream",
          "text": [
            "3 2 1\n"
          ]
        }
      ],
      "source": [
        "num=123\n",
        "n_string=str(num)\n",
        "r_num=\" \".join(reversed(n_string))\n",
        "print(r_num)"
      ]
    },
    {
      "cell_type": "code",
      "execution_count": null,
      "metadata": {
        "colab": {
          "base_uri": "https://localhost:8080/"
        },
        "id": "yEmgngvC88DC",
        "outputId": "4fa1fad3-d3ed-4501-97c9-b5c11197ca07"
      },
      "outputs": [
        {
          "name": "stdout",
          "output_type": "stream",
          "text": [
            "reversed num:4321\n"
          ]
        }
      ],
      "source": [
        "def reverse(n):\n",
        "  if len(n)==0:\n",
        "    return n\n",
        "  return reverse(n[1:])+n[0]\n",
        "num=1234\n",
        "n_string=str(num)\n",
        "r_num=reverse(n_string)\n",
        "print(\"reversed num:\"+r_num)"
      ]
    },
    {
      "cell_type": "code",
      "execution_count": null,
      "metadata": {
        "colab": {
          "base_uri": "https://localhost:8080/"
        },
        "id": "e41REY6o-Gbv",
        "outputId": "c015c82c-cea0-45ea-da4d-b9597b8c4bb2"
      },
      "outputs": [
        {
          "name": "stdout",
          "output_type": "stream",
          "text": [
            "enter the number1234\n",
            "4 3 2 1 "
          ]
        }
      ],
      "source": [
        "num=int(input(\"enter the number\"))\n",
        "while num!=0:\n",
        "  temp=num%10\n",
        "  print(temp,end=\" \")\n",
        "  num=num//10"
      ]
    },
    {
      "cell_type": "code",
      "execution_count": null,
      "metadata": {
        "colab": {
          "base_uri": "https://localhost:8080/"
        },
        "id": "rroFW_W1LwhH",
        "outputId": "e04dc6f8-fb80-4635-ce6e-5dd6997906cd"
      },
      "outputs": [
        {
          "name": "stdout",
          "output_type": "stream",
          "text": [
            "enter number10\n",
            "sum 55\n",
            "avgerage 5.5\n"
          ]
        }
      ],
      "source": [
        "n=int(input(\"enter number\"))\n",
        "avg=0.0\n",
        "s=0\n",
        "for i in range(1,n+1):\n",
        "  s=s+i\n",
        "avg=s/i\n",
        "print(\"sum\",s)\n",
        "print(\"avgerage\",avg)"
      ]
    },
    {
      "cell_type": "code",
      "execution_count": null,
      "metadata": {
        "colab": {
          "base_uri": "https://localhost:8080/"
        },
        "id": "FCD_Ses0Nry2",
        "outputId": "4601ac87-fef9-4e72-ff43-eb621d5e024c"
      },
      "outputs": [
        {
          "name": "stdout",
          "output_type": "stream",
          "text": [
            "enter number:5\n",
            "1 * 5 5\n",
            "2 * 5 10\n",
            "3 * 5 15\n",
            "4 * 5 20\n",
            "5 * 5 25\n",
            "6 * 5 30\n",
            "7 * 5 35\n",
            "8 * 5 40\n",
            "9 * 5 45\n",
            "10 * 5 50\n"
          ]
        }
      ],
      "source": [
        "n=int(input(\"enter number:\"))\n",
        "for i in range(1,11):\n",
        "  print(i,\"*\",n,i*n)\n",
        "  \n"
      ]
    },
    {
      "cell_type": "code",
      "execution_count": null,
      "metadata": {
        "colab": {
          "base_uri": "https://localhost:8080/"
        },
        "id": "Rvt1QM-APOQU",
        "outputId": "a7c032af-177b-4a7a-fde8-93ed4505eb5b"
      },
      "outputs": [
        {
          "name": "stdout",
          "output_type": "stream",
          "text": [
            "1900 1904 1908 1912 1916 1920 1924 1928 1932 1936 1940 1944 1948 1952 1956 1960 1964 1968 1972 1976 1980 1984 1988 1992 1996 2000 2004 2008 2012 2016 2020 2024 2028 2032 2036 2040 2044 2048 2052 2056 2060 2064 2068 2072 2076 2080 2084 2088 2092 2096 2100 "
          ]
        }
      ],
      "source": [
        "for i in range(1900,2101):\n",
        "  if(i%4==0):\n",
        "    print(i,end=\" \")"
      ]
    },
    {
      "cell_type": "code",
      "execution_count": null,
      "metadata": {
        "id": "_cQGxsbPPhAo"
      },
      "outputs": [],
      "source": [
        "n=int(input(\"enter number:\"))\n",
        "m=1/n"
      ]
    },
    {
      "cell_type": "code",
      "execution_count": null,
      "metadata": {
        "colab": {
          "base_uri": "https://localhost:8080/"
        },
        "id": "lr_r8UNYQWCs",
        "outputId": "a0e644b1-97f7-4f12-91b3-6f442d19229f"
      },
      "outputs": [
        {
          "name": "stdout",
          "output_type": "stream",
          "text": [
            "enter number8\n",
            "sum 2.7178571428571425\n"
          ]
        }
      ],
      "source": [
        "n=int(input(\"enter number\"))\n",
        "s=0.0\n",
        "for i in range(1,n+1):\n",
        "  s=s+1/i\n",
        "print(\"sum\",s)"
      ]
    },
    {
      "cell_type": "code",
      "execution_count": null,
      "metadata": {
        "colab": {
          "base_uri": "https://localhost:8080/"
        },
        "id": "GCU-2efvSBlk",
        "outputId": "1e9bd43f-1158-49b2-a75f-c206d378cea0"
      },
      "outputs": [
        {
          "name": "stdout",
          "output_type": "stream",
          "text": [
            "enter number7\n",
            "sum 1.2912859347732235\n"
          ]
        }
      ],
      "source": [
        "n=int(input(\"enter number\"))\n",
        "s=0.0\n",
        "for i in range(1,n+1):\n",
        "  s=s+1/(i**i)\n",
        "print(\"sum\",s)"
      ]
    },
    {
      "cell_type": "code",
      "execution_count": null,
      "metadata": {
        "colab": {
          "base_uri": "https://localhost:8080/"
        },
        "id": "S87Qmw8LS3dC",
        "outputId": "b0ea740f-0942-4cd1-9a95-3e7777238926"
      },
      "outputs": [
        {
          "name": "stdout",
          "output_type": "stream",
          "text": [
            "Hi\n"
          ]
        }
      ],
      "source": [
        "str=\"hi\"\n",
        "print(str.capitalize())"
      ]
    },
    {
      "cell_type": "code",
      "execution_count": null,
      "metadata": {
        "colab": {
          "base_uri": "https://localhost:8080/"
        },
        "id": "H90EVRJ_rpGY",
        "outputId": "d2809a05-5c47-43de-f37e-ceb9caf87d43"
      },
      "outputs": [
        {
          "name": "stdout",
          "output_type": "stream",
          "text": [
            "$$$$hi$$$$\n"
          ]
        }
      ],
      "source": [
        "str=\"hi\"\n",
        "print(str.center(10,'$'))"
      ]
    },
    {
      "cell_type": "code",
      "execution_count": null,
      "metadata": {
        "colab": {
          "base_uri": "https://localhost:8080/"
        },
        "id": "BLciS9i7sGVN",
        "outputId": "1615507e-6e60-4460-cbe6-d6ac196e358b"
      },
      "outputs": [
        {
          "name": "stdout",
          "output_type": "stream",
          "text": [
            "$$$hello$$$\n"
          ]
        }
      ],
      "source": [
        "str=\"hello\"\n",
        "print(str.center(11,'$'))"
      ]
    },
    {
      "cell_type": "code",
      "execution_count": null,
      "metadata": {
        "colab": {
          "base_uri": "https://localhost:8080/"
        },
        "id": "RkKhktUTsIK0",
        "outputId": "d310a3b2-02c1-4641-a2a1-b6522ff99d87"
      },
      "outputs": [
        {
          "name": "stdout",
          "output_type": "stream",
          "text": [
            "4\n"
          ]
        }
      ],
      "source": [
        "str=\"he\"\n",
        "substr=\"hehellhehell\"\n",
        "print(substr.count(str,0,len(substr)))"
      ]
    },
    {
      "cell_type": "code",
      "execution_count": null,
      "metadata": {
        "colab": {
          "base_uri": "https://localhost:8080/"
        },
        "id": "rELJSocjs8v2",
        "outputId": "ecda476a-7be8-4aaf-8056-063f2eead485"
      },
      "outputs": [
        {
          "name": "stdout",
          "output_type": "stream",
          "text": [
            "2\n"
          ]
        }
      ],
      "source": [
        "str=\"ll\"\n",
        "substr=\"hehellhehell\"\n",
        "print(substr.count(str,0,len(substr)))"
      ]
    },
    {
      "cell_type": "code",
      "execution_count": null,
      "metadata": {
        "colab": {
          "base_uri": "https://localhost:8080/"
        },
        "id": "qp-CgOv5tDfU",
        "outputId": "c3663ac2-8e39-499f-e37c-1388bd9a5b33"
      },
      "outputs": [
        {
          "name": "stdout",
          "output_type": "stream",
          "text": [
            "8\n"
          ]
        }
      ],
      "source": [
        "str=\"he is a tall person\"\n",
        "print(str.find(\"tall\",0,len(str)))"
      ]
    },
    {
      "cell_type": "code",
      "execution_count": null,
      "metadata": {
        "colab": {
          "base_uri": "https://localhost:8080/"
        },
        "id": "USmFzKMjuOEe",
        "outputId": "9abc4695-bcd6-44cd-b3e8-15e829f03e9f"
      },
      "outputs": [
        {
          "name": "stdout",
          "output_type": "stream",
          "text": [
            "hi^^^^^^^^^^^^^^^^^^\n"
          ]
        }
      ],
      "source": [
        "#left justification\n",
        "str=\"hi\"\n",
        "print(str.ljust(20,'^'))"
      ]
    },
    {
      "cell_type": "code",
      "execution_count": null,
      "metadata": {
        "colab": {
          "base_uri": "https://localhost:8080/"
        },
        "id": "oC34q2RZvdv8",
        "outputId": "a54704ba-238b-455d-80cd-2db038666fc0"
      },
      "outputs": [
        {
          "name": "stdout",
          "output_type": "stream",
          "text": [
            "^^^^^^^^^^^^^^^^^^hi\n"
          ]
        }
      ],
      "source": [
        "#right justification\n",
        "str=\"hi\"\n",
        "print(str.rjust(20,'^'))"
      ]
    },
    {
      "cell_type": "code",
      "execution_count": null,
      "metadata": {
        "colab": {
          "base_uri": "https://localhost:8080/"
        },
        "id": "Ki18Em7Zvj0y",
        "outputId": "fe7bf4cf-d4a4-4239-eaba-fc27b8c36f27"
      },
      "outputs": [
        {
          "name": "stdout",
          "output_type": "stream",
          "text": [
            "0006\n"
          ]
        }
      ],
      "source": [
        "#syntax for zfill(width)\n",
        "str=\"6\"\n",
        "print(str.zfill(4))"
      ]
    },
    {
      "cell_type": "code",
      "execution_count": null,
      "metadata": {
        "colab": {
          "base_uri": "https://localhost:8080/"
        },
        "id": "vqK8T-9eyMwE",
        "outputId": "b8b5802d-bc0c-43f5-c2dd-4777aede64ec"
      },
      "outputs": [
        {
          "name": "stdout",
          "output_type": "stream",
          "text": [
            "65\n",
            "110\n"
          ]
        }
      ],
      "source": [
        "print(ord(\"A\"))\n",
        "print(ord(\"n\"))"
      ]
    },
    {
      "cell_type": "code",
      "execution_count": null,
      "metadata": {
        "colab": {
          "base_uri": "https://localhost:8080/"
        },
        "id": "ye3a_Zzcy_FO",
        "outputId": "69080b53-d25c-4811-e84c-a4fff2a049f7"
      },
      "outputs": [
        {
          "name": "stdout",
          "output_type": "stream",
          "text": [
            "r\n",
            "Z\n"
          ]
        }
      ],
      "source": [
        "str=\"Zebra\"\n",
        "print(max(str))\n",
        "print(min(str))"
      ]
    },
    {
      "cell_type": "code",
      "execution_count": null,
      "metadata": {
        "colab": {
          "base_uri": "https://localhost:8080/"
        },
        "id": "CAOlAejEzJhQ",
        "outputId": "04192d78-4794-4c36-9fc6-ee49f9fffde8"
      },
      "outputs": [
        {
          "name": "stdout",
          "output_type": "stream",
          "text": [
            "Hi How Are You\n"
          ]
        }
      ],
      "source": [
        "str=\"hi how are you\"\n",
        "print(str.title())"
      ]
    },
    {
      "cell_type": "code",
      "execution_count": null,
      "metadata": {
        "colab": {
          "base_uri": "https://localhost:8080/"
        },
        "id": "zCp1MTEhzX-6",
        "outputId": "8a7302c7-f8d4-4440-cc12-049addc0e80a"
      },
      "outputs": [
        {
          "name": "stdout",
          "output_type": "stream",
          "text": [
            "hI hOW aRE yOU\n"
          ]
        }
      ],
      "source": [
        "str=\"Hi How Are You\"\n",
        "print(str.swapcase())"
      ]
    },
    {
      "cell_type": "code",
      "execution_count": null,
      "metadata": {
        "colab": {
          "base_uri": "https://localhost:8080/"
        },
        "id": "gQS64Cg4zdY5",
        "outputId": "07ce3c6b-a172-4da4-9ab3-fdb1abd861d2"
      },
      "outputs": [
        {
          "name": "stdout",
          "output_type": "stream",
          "text": [
            "[(0, 'H'), (1, 'i'), (2, ' '), (3, 'H'), (4, 'o'), (5, 'w'), (6, ' '), (7, 'A'), (8, 'r'), (9, 'e'), (10, ' '), (11, 'Y'), (12, 'o'), (13, 'u')]\n"
          ]
        }
      ],
      "source": [
        "str=\"Hi How Are You\"\n",
        "print(list(enumerate(str)))"
      ]
    },
    {
      "cell_type": "code",
      "execution_count": null,
      "metadata": {
        "colab": {
          "base_uri": "https://localhost:8080/"
        },
        "id": "KCIqzCQU0iYQ",
        "outputId": "e994d27c-d055-47ba-bc33-88e42dc5b707"
      },
      "outputs": [
        {
          "name": "stdout",
          "output_type": "stream",
          "text": [
            "I N D I A   H A S   W O N "
          ]
        }
      ],
      "source": [
        "str=\"INDIA HAS WON\"\n",
        "for i in str:\n",
        "  print(i,end=' ')"
      ]
    },
    {
      "cell_type": "code",
      "execution_count": null,
      "metadata": {
        "colab": {
          "base_uri": "https://localhost:8080/"
        },
        "id": "cmYrNBPm1xZW",
        "outputId": "a7bb9ae8-8d84-41b8-865b-e065d4c81914"
      },
      "outputs": [
        {
          "name": "stdout",
          "output_type": "stream",
          "text": [
            "k p f k c "
          ]
        }
      ],
      "source": [
        "#caeser cipher\n",
        "str=\"india\"\n",
        "index=0\n",
        "while index <len(str):\n",
        "  letter=str[index]\n",
        "  print(chr(ord(letter)+ 2),end=' ')\n",
        "  index +=1"
      ]
    },
    {
      "cell_type": "code",
      "execution_count": null,
      "metadata": {
        "colab": {
          "base_uri": "https://localhost:8080/"
        },
        "id": "Et6DhPS2AnDL",
        "outputId": "f5e76357-b14a-437e-87c4-5f7ae10f0011"
      },
      "outputs": [
        {
          "name": "stdout",
          "output_type": "stream",
          "text": [
            "aate\n",
            "bate\n",
            "cate\n",
            "date\n",
            "eate\n"
          ]
        }
      ],
      "source": [
        "str=\"ate\"\n",
        "i=0\n",
        "list=['a','b','c','d','e']\n",
        "while i <len(list):\n",
        "  s=list[i]+str\n",
        "  print(s)\n",
        "  i=i+1"
      ]
    },
    {
      "cell_type": "code",
      "execution_count": null,
      "metadata": {
        "colab": {
          "base_uri": "https://localhost:8080/"
        },
        "id": "UhsX13c1CKZS",
        "outputId": "31c927a9-ae0d-49e2-9ac8-58bd10159dd2"
      },
      "outputs": [
        {
          "name": "stdout",
          "output_type": "stream",
          "text": [
            "enter the posistion13\n",
            "13 at accordance 35\n"
          ]
        }
      ],
      "source": [
        "val=int(input(\"enter the posistion\"))\n",
        "a=b=0\n",
        "for i in range(1,val+1):\n",
        "  if(i%2==0):\n",
        "    a=a+7\n",
        "  else:\n",
        "    b=b+6\n",
        "if val%2!=0:\n",
        "  print('{} at accordance {}'.format(val,a-7))\n",
        "else:\n",
        "  print('{} at accordance {}'.format(val,b-6))"
      ]
    },
    {
      "cell_type": "code",
      "execution_count": null,
      "metadata": {
        "colab": {
          "base_uri": "https://localhost:8080/"
        },
        "id": "6YvlenVnIUKz",
        "outputId": "4c0d37be-268f-4942-8b47-d93ab8d0eddb"
      },
      "outputs": [
        {
          "name": "stdout",
          "output_type": "stream",
          "text": [
            "12\n",
            "[6, 7, 12, 14, 18, 21, 24, 28, 30, 35, 36, 42]\n",
            "enter position:5\n",
            "21\n"
          ]
        }
      ],
      "source": [
        "n=int(input())\n",
        "a=b=0\n",
        "list=[]\n",
        "for i in range(n+1):\n",
        "  if(i%2==0):\n",
        "    a=a+7\n",
        "    list.append(a)\n",
        "  else:\n",
        "    b=b+6\n",
        "    list.append(b)\n",
        "print(list)\n",
        "m=int(input(\"enter position:\"))\n",
        "for i in range(0,n+1):\n",
        "  if(i==m):\n",
        "    print(list[i])"
      ]
    },
    {
      "cell_type": "code",
      "execution_count": null,
      "metadata": {
        "id": "73a2qjK6NEry"
      },
      "outputs": [],
      "source": [
        "val=int(input(\"enter the posistion\"))\n",
        "a=b=1\n",
        "for i in range(1,val+1):\n",
        "  if(i%2==0):\n",
        "    a=a*2\n",
        "  else:\n",
        "    b=b*3\n",
        "if val%2!=0:\n",
        "  print('{} at accordance {}'.format(val,a//2))\n",
        "else:\n",
        "  print('{} at accordance {}'.format(val,b//3))"
      ]
    },
    {
      "cell_type": "code",
      "execution_count": null,
      "metadata": {
        "colab": {
          "background_save": true,
          "base_uri": "https://localhost:8080/"
        },
        "id": "JAkBgg_oPiTL",
        "outputId": "12b11959-53a2-47eb-c15c-9bb7482dd970"
      },
      "outputs": [
        {
          "name": "stdout",
          "output_type": "stream",
          "text": [
            "[1, 3, 4, 27, 16, 243, 64, 2187, 256, 19683, 1024, 177147, 4096, 1594323]\n",
            "16\n"
          ]
        }
      ],
      "source": [
        "n=int(input())\n",
        "a=b=1\n",
        "list=[]\n",
        "for i in range(n+1):\n",
        "  if(i%2==0):\n",
        "    a=2**i\n",
        "    list.append(a)\n",
        "  else:\n",
        "    b=3**i\n",
        "    list.append(b)\n",
        "print(list)\n",
        "m=int(input(\"enter position:\"))\n",
        "for i in range(1,n+1):\n",
        "  if(i==m):\n",
        "    print(list[i])"
      ]
    },
    {
      "cell_type": "code",
      "execution_count": null,
      "metadata": {
        "colab": {
          "base_uri": "https://localhost:8080/"
        },
        "id": "T1K1CLqPP1LP",
        "outputId": "d34fa0aa-dd48-4c04-adda-90ae12b85b2c"
      },
      "outputs": [
        {
          "name": "stdout",
          "output_type": "stream",
          "text": [
            "* \n",
            "\n",
            "* * \n",
            "\n",
            "* * * \n",
            "\n",
            "* * * * \n",
            "\n",
            "* * * * * \n",
            "\n"
          ]
        }
      ],
      "source": [
        "for i in range(5):\n",
        "  for m in range(i+1):\n",
        "    print(\"*\",end=\" \")\n",
        "  print(\"\\n\")"
      ]
    },
    {
      "cell_type": "code",
      "execution_count": null,
      "metadata": {
        "colab": {
          "base_uri": "https://localhost:8080/"
        },
        "id": "IHiso0yA_w4W",
        "outputId": "f3f2fc8d-21b8-40e2-eed9-30168bf6d8a0"
      },
      "outputs": [
        {
          "name": "stdout",
          "output_type": "stream",
          "text": [
            "enter number of rows5\n",
            "1 2 3 4 5 \n",
            "\n",
            "1 2 3 4 \n",
            "\n",
            "1 2 3 \n",
            "\n",
            "1 2 \n",
            "\n",
            "1 \n",
            "\n"
          ]
        }
      ],
      "source": [
        "rows=int(input(\"enter number of rows\"))\n",
        "for i in range(rows,0,-1):\n",
        "  for j in range(0,i):\n",
        "    print(j+1,end=\" \")\n",
        "  print(\"\\n\")"
      ]
    },
    {
      "cell_type": "code",
      "execution_count": null,
      "metadata": {
        "colab": {
          "base_uri": "https://localhost:8080/"
        },
        "id": "D256AtJcDoSK",
        "outputId": "86799442-1a4e-494d-bbc6-c5f5478f67fc"
      },
      "outputs": [
        {
          "name": "stdout",
          "output_type": "stream",
          "text": [
            "enter number of rows4\n",
            "@ @ @ @ \n",
            "\n",
            "  @ @ @ \n",
            "\n",
            "    @ @ \n",
            "\n",
            "      @ \n",
            "\n"
          ]
        }
      ],
      "source": [
        "rows=int(input(\"enter number of rows\"))\n",
        "for i in range(1,rows+1):\n",
        "  for j in range(1,rows+1):\n",
        "    if(j<i):\n",
        "      print(' ',end=' ')\n",
        "    else:\n",
        "      print(\"@\",end=' ')\n",
        "  print(\"\\n\")"
      ]
    },
    {
      "cell_type": "code",
      "execution_count": null,
      "metadata": {
        "colab": {
          "base_uri": "https://localhost:8080/"
        },
        "id": "EzAblpj1Fvdt",
        "outputId": "cac8704d-9937-4ad2-e106-e710e81085e0"
      },
      "outputs": [
        {
          "name": "stdout",
          "output_type": "stream",
          "text": [
            "enter number of rows5\n",
            "@ @ @ @ @ \n",
            "  @ @ @ @ \n",
            "    @ @ @ \n",
            "      @ @ \n",
            "        @ \n"
          ]
        }
      ],
      "source": [
        "rows=int(input(\"enter number of rows\"))\n",
        "i=1\n",
        "while(i<=rows):\n",
        "  j=1\n",
        "  while(j<=rows):\n",
        "    if j<i:\n",
        "      print(' ',end=' ')\n",
        "    else:\n",
        "      print('@',end=' ')\n",
        "    j=j+1\n",
        "  i=i+1\n",
        "  print()"
      ]
    },
    {
      "cell_type": "code",
      "execution_count": null,
      "metadata": {
        "colab": {
          "base_uri": "https://localhost:8080/"
        },
        "id": "LftYlyoFG97X",
        "outputId": "9a360f33-f727-497a-d10a-0adb03f74dce"
      },
      "outputs": [
        {
          "name": "stdout",
          "output_type": "stream",
          "text": [
            "enter number of rows6\n",
            " @   @   @   @   @   @  \n",
            "\n",
            "   @   @   @   @   @  \n",
            "\n",
            "     @   @   @   @  \n",
            "\n",
            "       @   @   @  \n",
            "\n",
            "         @   @  \n",
            "\n",
            "           @  \n",
            "\n"
          ]
        }
      ],
      "source": [
        "rows=int(input(\"enter number of rows\"))\n",
        "for i in range(1,rows+1):\n",
        "  for j in range(1,rows+1):\n",
        "    if(j<i):\n",
        "      print(' ',end=' ')\n",
        "    else:\n",
        "      print(\" @ \",end=' ')\n",
        "  print(\"\\n\")"
      ]
    },
    {
      "cell_type": "code",
      "execution_count": null,
      "metadata": {
        "colab": {
          "base_uri": "https://localhost:8080/"
        },
        "id": "jn9sAXHgKyqN",
        "outputId": "495d958d-794f-41a5-9f44-e0515a69f7ab"
      },
      "outputs": [
        {
          "name": "stdout",
          "output_type": "stream",
          "text": [
            "enter number of rows4\n",
            "      * \n",
            "    *   *\n",
            "  *       *\n",
            "*           *\n",
            "  *       *\n",
            "    *   *\n",
            "      * \n"
          ]
        }
      ],
      "source": [
        "rows=int(input(\"enter number of rows\"))\n",
        "i=1\n",
        "while i<=rows:\n",
        "  j=rows\n",
        "  while j>i:\n",
        "    print(' ',end=\" \")\n",
        "    j-=1\n",
        "  print('*',end=\" \")\n",
        "  k=1\n",
        "  while k<2 *(i-1):\n",
        "    print(' ',end=\" \")\n",
        "    k+=1\n",
        "  if i==1:\n",
        "    print()\n",
        "  else:\n",
        "    print(\"*\")\n",
        "  i+=1\n",
        "i=rows-1\n",
        "while i>=1:\n",
        "  j=rows\n",
        "  while j>i:\n",
        "    print(' ',end=\" \")\n",
        "    j-=1\n",
        "  print('*',end=\" \")\n",
        "  k=1\n",
        "  while k<2*(i-1):\n",
        "    print(' ',end=\" \")\n",
        "    k+=1\n",
        "  if i==1:\n",
        "    print()\n",
        "  else:\n",
        "    print(\"*\")\n",
        "  i-=1\n"
      ]
    },
    {
      "cell_type": "code",
      "execution_count": null,
      "metadata": {
        "colab": {
          "base_uri": "https://localhost:8080/"
        },
        "id": "Btti-lchddhN",
        "outputId": "6b3dccf7-6cfb-41ce-bc6e-69d49645100b"
      },
      "outputs": [
        {
          "name": "stdout",
          "output_type": "stream",
          "text": [
            "        * \n",
            "       * * \n",
            "      * * * \n",
            "     * * * * \n",
            "    * * * * * \n",
            "   * * * * * * \n",
            "    * * * * * \n",
            "     * * * * \n",
            "      * * * \n",
            "       * * \n",
            "        * \n"
          ]
        }
      ],
      "source": [
        "rows=5\n",
        "k=2*rows-2\n",
        "for i in range(0,rows):\n",
        "  for j in range(0,k):\n",
        "    print(end=\" \")\n",
        "  k=k-1\n",
        "  for j in range(0,i+1):\n",
        "    print(\"* \",end=\"\")\n",
        "  print(\"\")\n",
        "k=rows-2\n",
        "for i in range(rows,  -1, -1):\n",
        "  for j in range(k, 0, -1):\n",
        "    print(end=\" \")\n",
        "  k=k+1\n",
        "  for j in range(0,i+1):\n",
        "    print(\"* \",end=\"\")\n",
        "  print(\"\") "
      ]
    },
    {
      "cell_type": "code",
      "execution_count": null,
      "metadata": {
        "colab": {
          "base_uri": "https://localhost:8080/"
        },
        "id": "2ZJ9LEE6eidm",
        "outputId": "8f5781e3-1b66-48bb-a197-1c8436d1e21e"
      },
      "outputs": [
        {
          "name": "stdout",
          "output_type": "stream",
          "text": [
            "C\n",
            "Ca\n",
            "Cal\n",
            "Cali\n",
            "Calif\n",
            "Califo\n",
            "Califor\n",
            "Californ\n",
            "Californi\n",
            "California\n"
          ]
        }
      ],
      "source": [
        "word=\"California\"\n",
        "x= \"\"\n",
        "for i in word:\n",
        "  x+=i\n",
        "  print(x)"
      ]
    },
    {
      "cell_type": "code",
      "execution_count": null,
      "metadata": {
        "colab": {
          "base_uri": "https://localhost:8080/"
        },
        "id": "wnOzWwjqvTzn",
        "outputId": "1af378e5-8957-4921-8498-99158803e7af"
      },
      "outputs": [
        {
          "name": "stdout",
          "output_type": "stream",
          "text": [
            "A  \n",
            "B C  \n",
            "D E F  \n",
            "G H I J  \n",
            "K L M N O  \n",
            "P Q R S T U  \n",
            "V W X Y Z [ \\  \n"
          ]
        }
      ],
      "source": [
        "a=65\n",
        "r=7\n",
        "for i in range(0, r):\n",
        "  for j in range(0, i+1):\n",
        "      ch=chr(a)\n",
        "      print(ch,end=' ')\n",
        "      a+=1\n",
        "  print(\" \")"
      ]
    },
    {
      "cell_type": "code",
      "execution_count": null,
      "metadata": {
        "colab": {
          "base_uri": "https://localhost:8080/"
        },
        "id": "seB_-puo2as4",
        "outputId": "0978f5fb-a864-4f6d-d1fd-5b810ae99b6b"
      },
      "outputs": [
        {
          "name": "stdout",
          "output_type": "stream",
          "text": [
            "                                                                                                                                A  \n",
            "                                                                                                                               B C  \n",
            "                                                                                                                              D E F  \n",
            "                                                                                                                             G H I J  \n",
            "                                                                                                                            K L M N O  \n",
            "                                                                                                                           P Q R S T U  \n",
            "                                                                                                                          V W X Y Z [ \\  \n"
          ]
        }
      ],
      "source": [
        "a=65\n",
        "r=7\n",
        "m=(2*a)-2\n",
        "for i in range(0, r):\n",
        "  for j in range(0,m):\n",
        "    print(end=\" \")\n",
        "  m=m-1\n",
        "  for j in range(0,i+1):\n",
        "      ch=chr(a)\n",
        "      print(ch,end=' ')\n",
        "      a+=1\n",
        "  print(\" \")"
      ]
    },
    {
      "cell_type": "code",
      "execution_count": null,
      "metadata": {
        "colab": {
          "base_uri": "https://localhost:8080/"
        },
        "id": "1N063kzfypiS",
        "outputId": "b1c24bed-f89d-493e-edc0-68999fd80e84"
      },
      "outputs": [
        {
          "name": "stdout",
          "output_type": "stream",
          "text": [
            "1 \n",
            "2 4 \n",
            "3 6 9 \n",
            "4 8 12 16 \n",
            "5 10 15 20 25 \n",
            "6 12 18 24 30 36 \n",
            "7 14 21 28 35 42 49 \n",
            "8 16 24 32 40 48 56 64 \n",
            "9 18 27 36 45 54 63 72 81 \n",
            "10 20 30 40 50 60 70 80 90 100 \n"
          ]
        }
      ],
      "source": [
        "rows=10\n",
        "for i in range(1, rows+1):\n",
        "  for j in range(1, i+1):\n",
        "    print(i*j, end=\" \")\n",
        "  print()\n"
      ]
    },
    {
      "cell_type": "code",
      "execution_count": null,
      "metadata": {
        "colab": {
          "base_uri": "https://localhost:8080/"
        },
        "id": "k6Oiu9gC56zU",
        "outputId": "4fb3f82f-4e9c-460e-ddfe-6dcdf849ba38"
      },
      "outputs": [
        {
          "name": "stdout",
          "output_type": "stream",
          "text": [
            "10\n"
          ]
        }
      ],
      "source": [
        "def diff(a,b):\n",
        "  return a-b\n",
        "x=20\n",
        "y=10\n",
        "operation=diff\n",
        "print(operation(x,y))"
      ]
    },
    {
      "cell_type": "code",
      "execution_count": null,
      "metadata": {
        "colab": {
          "base_uri": "https://localhost:8080/"
        },
        "id": "x69TdOIv8l-Q",
        "outputId": "4c70d859-acaa-4481-b028-1f621f46c8e8"
      },
      "outputs": [
        {
          "name": "stdout",
          "output_type": "stream",
          "text": [
            "hi students\n",
            "hi students\n",
            "hi students\n",
            "hi students\n",
            "hi students\n"
          ]
        }
      ],
      "source": [
        "#program to display a string n number of times\n",
        "def fun():  #calling a function\n",
        "  for i in range(5):\n",
        "    print(\"hi students\")\n",
        "fun()"
      ]
    },
    {
      "cell_type": "code",
      "execution_count": null,
      "metadata": {
        "colab": {
          "base_uri": "https://localhost:8080/"
        },
        "id": "9dm0VdN99zBo",
        "outputId": "b32a2bb6-d99d-4342-e35c-8c2673a0bf10"
      },
      "outputs": [
        {
          "name": "stdout",
          "output_type": "stream",
          "text": [
            "difference of a and b is: 10\n"
          ]
        }
      ],
      "source": [
        "def diff(a, b):\n",
        "  result = a-b\n",
        "  print(\"difference of a and b is:\",result)\n",
        "x=20\n",
        "y=10\n",
        "diff(x,y)"
      ]
    },
    {
      "cell_type": "code",
      "execution_count": null,
      "metadata": {
        "colab": {
          "base_uri": "https://localhost:8080/"
        },
        "id": "xMLvPuV__ACC",
        "outputId": "1b7dff95-dbb2-4071-c0c5-bf4320a4ca73"
      },
      "outputs": [
        {
          "name": "stdout",
          "output_type": "stream",
          "text": [
            "2"
          ]
        }
      ],
      "source": [
        "for i in range(1,10):\n",
        "  count=0\n",
        "  for j in range(2,(j//2+1)):\n",
        "    if(j % i==0):\n",
        "      count=count+1\n",
        "      break\n",
        "    \n",
        "if(count==0 and j!=1):\n",
        "  print(j,end='')"
      ]
    },
    {
      "cell_type": "code",
      "execution_count": null,
      "metadata": {
        "colab": {
          "base_uri": "https://localhost:8080/"
        },
        "id": "qPal3OiuQC1Z",
        "outputId": "5929a54b-e216-4f2e-e129-74cc5f0cf621"
      },
      "outputs": [
        {
          "name": "stdout",
          "output_type": "stream",
          "text": [
            "2 3 5 7 "
          ]
        }
      ],
      "source": [
        "i=1\n",
        "j=10\n",
        "for num in range(i,j+1):\n",
        "  if num>1:\n",
        "    for i in range(2, num):\n",
        "      if(num % i) == 0:\n",
        "        break\n",
        "    else:\n",
        "      print(num,end=\" \")"
      ]
    },
    {
      "cell_type": "code",
      "execution_count": null,
      "metadata": {
        "id": "5eIGLiXyQ6nn"
      },
      "outputs": [],
      "source": [
        "a=int(input())\n",
        "b=int(input())\n",
        "if(a<=0 or b<=0 or a>b):\n",
        "  print(\"provide \")"
      ]
    },
    {
      "cell_type": "code",
      "execution_count": null,
      "metadata": {
        "colab": {
          "base_uri": "https://localhost:8080/"
        },
        "id": "pVe4Wb4bU-6_",
        "outputId": "95552f92-6205-4951-d93f-0b76f2453091"
      },
      "outputs": [
        {
          "name": "stdout",
          "output_type": "stream",
          "text": [
            "enter the size:4\n",
            "*          *\n",
            "  *      *  \n",
            "    *  *    \n",
            "      *      \n",
            "    *  *    \n",
            "  *      *  \n",
            "*          *\n"
          ]
        }
      ],
      "source": [
        "n=int(input(\"enter the size:\"))\n",
        "val=n * 2 -1\n",
        "for i in range(1, val+1):\n",
        "  for j in range(1, val+1):\n",
        "    if i==j or j==val-i +1:\n",
        "      print('*',end='')\n",
        "    else:\n",
        "      print(' ',end=' ')\n",
        "  print()"
      ]
    },
    {
      "cell_type": "code",
      "execution_count": null,
      "metadata": {
        "colab": {
          "base_uri": "https://localhost:8080/"
        },
        "id": "68nm4iAMahcl",
        "outputId": "4509b300-89e6-4308-f684-779ee808ddeb"
      },
      "outputs": [
        {
          "name": "stdout",
          "output_type": "stream",
          "text": [
            "enter the size:4\n",
            "      *       \n",
            "      *       \n",
            "      *       \n",
            "* * * * * * * \n",
            "      *       \n",
            "      *       \n",
            "      *       \n"
          ]
        }
      ],
      "source": [
        "n=int(input(\"enter the size:\"))\n",
        "for i in range(1,2*size):\n",
        "  for j in range(1,2*size):\n",
        "    if i==size or j==size:\n",
        "      print('*',end=' ')\n",
        "    else:\n",
        "      print(' ',end=' ')\n",
        "  print()"
      ]
    },
    {
      "cell_type": "code",
      "execution_count": null,
      "metadata": {
        "colab": {
          "base_uri": "https://localhost:8080/"
        },
        "id": "uWrQNeyRVpa-",
        "outputId": "77c70930-e78a-4309-f9e3-bff0876279b5"
      },
      "outputs": [
        {
          "name": "stdout",
          "output_type": "stream",
          "text": [
            "enter the size:4\n",
            "provide accurate input\n"
          ]
        }
      ],
      "source": [
        "n=int(input(\"enter the size:\"))\n",
        "val=0\n",
        "st=int(n/2+1)\n",
        "if n%2!=0:\n",
        "  for i in range(1, int(n/2+2)):\n",
        "    for j in range(1, val+1):\n",
        "      print(' ',end='')\n",
        "    for k in range(1, st+1):\n",
        "      print('*',end=' ')\n",
        "    print()\n",
        "    val+=1\n",
        "    st-=1\n",
        "  val-=2\n",
        "  st+=2\n",
        "  for i in range(1, int(n/2+2)):\n",
        "    for j in range(1, val+1):\n",
        "      print(' ',end='')\n",
        "    for k in range(1, st+1):\n",
        "      print('*',end=' ')\n",
        "    print()\n",
        "    val-=1\n",
        "    st+=1\n",
        "else:\n",
        "  print(\"provide accurate input\")"
      ]
    },
    {
      "cell_type": "code",
      "execution_count": null,
      "metadata": {
        "id": "pdWVRyfw_FMg"
      },
      "outputs": [],
      "source": [
        "#function - space is allocated in the memeory location\n",
        "#function is into 2 parts\n",
        "#1.function header\n",
        "#2.function body\n",
        "\n",
        "#Arguments passed with return values\n"
      ]
    },
    {
      "cell_type": "code",
      "execution_count": null,
      "metadata": {
        "colab": {
          "base_uri": "https://localhost:8080/"
        },
        "id": "j3i93S8AGC3I",
        "outputId": "cbb182f6-2c14-4377-ab8a-9839a3bdd510"
      },
      "outputs": [
        {
          "name": "stdout",
          "output_type": "stream",
          "text": [
            "30\n"
          ]
        }
      ],
      "source": [
        "def add(x,y):\n",
        "  return x+y\n",
        "a=10\n",
        "b=20\n",
        "operation=add\n",
        "print(operation(a,b))"
      ]
    },
    {
      "cell_type": "code",
      "execution_count": null,
      "metadata": {
        "id": "37v4i5azFz14"
      },
      "outputs": [],
      "source": [
        "def fun():\n",
        "  for i in range(10):\n",
        "    print(\"abcde\")"
      ]
    },
    {
      "cell_type": "code",
      "execution_count": null,
      "metadata": {
        "colab": {
          "base_uri": "https://localhost:8080/"
        },
        "id": "ESFaxyKWFSIx",
        "outputId": "811dd837-db1f-4fb9-b76d-274b27fb2687"
      },
      "outputs": [
        {
          "name": "stdout",
          "output_type": "stream",
          "text": [
            "in the function var1 is -   hi \n",
            "outside function is var2 -  goodmorning\n"
          ]
        }
      ],
      "source": [
        "var1=\" hi \"\n",
        "def abc():\n",
        "  global var2\n",
        "  var2=\" goodmorning\"\n",
        "  print(\"in the function var1 is - \",var1)\n",
        "abc()\n",
        "print(\"outside function is var2 -\",var2)"
      ]
    },
    {
      "cell_type": "code",
      "execution_count": null,
      "metadata": {
        "colab": {
          "base_uri": "https://localhost:8080/"
        },
        "id": "yLHq5GeoIJAh",
        "outputId": "342c7e4a-fa46-4a47-fc7d-af9d3e6db0f3"
      },
      "outputs": [
        {
          "name": "stdout",
          "output_type": "stream",
          "text": [
            "in the function var1 is -   hi \n",
            "outside function is var2 -  hi \n",
            "outside function after modify  verygood\n"
          ]
        }
      ],
      "source": [
        "var1=\" hi \"\n",
        "def abc():\n",
        "  global var2\n",
        "  var2=\" goodmorning\"\n",
        "  print(\"in the function var1 is - \",var1)\n",
        "abc()\n",
        "print(\"outside function is var2 -\",var1)\n",
        "var1=\" verygood\"\n",
        "print(\"outside function after modify\",var1)\n"
      ]
    },
    {
      "cell_type": "code",
      "execution_count": null,
      "metadata": {
        "colab": {
          "base_uri": "https://localhost:8080/"
        },
        "id": "HX9lsjoZIYv7",
        "outputId": "49638bc7-8045-4000-ff00-f5b004641f0f"
      },
      "outputs": [
        {
          "name": "stdout",
          "output_type": "stream",
          "text": [
            "inner variable 22\n",
            "outer variable 11\n"
          ]
        }
      ],
      "source": [
        "#program to demo access of var in inner and outer function\n",
        "\n",
        "def outer_fun():\n",
        "  outer_var=11\n",
        "  def inner_fun():\n",
        "    inner_var=22\n",
        "    print(\"inner variable\",inner_var)\n",
        "  inner_fun()\n",
        "  print(\"outer variable\",outer_var)\n",
        "outer_fun()"
      ]
    },
    {
      "cell_type": "code",
      "execution_count": null,
      "metadata": {
        "colab": {
          "base_uri": "https://localhost:8080/"
        },
        "id": "pGNDSIvIL0Tm",
        "outputId": "dcaa920f-b65e-4913-b5d1-9c62d997bf49"
      },
      "outputs": [
        {
          "name": "stdout",
          "output_type": "stream",
          "text": [
            "cube of 10  =  1000\n"
          ]
        }
      ],
      "source": [
        "#writing a function and return its cubation format\n",
        "def cube(x):\n",
        "  return(x*x*x)\n",
        "\n",
        "num=10\n",
        "result=cube(num)\n",
        "print(\"cube of\", num, \" = \",result)"
      ]
    },
    {
      "cell_type": "code",
      "execution_count": null,
      "metadata": {
        "id": "FVNPnNmJMnQF"
      },
      "outputs": [],
      "source": [
        "#writing a function to understand a mismatch parameters\n",
        "def abc(x):\n",
        "  print(\" hi students\"+x)\n",
        "abc(5)#strings doesnot support + operator\n"
      ]
    },
    {
      "cell_type": "code",
      "execution_count": null,
      "metadata": {
        "colab": {
          "base_uri": "https://localhost:8080/"
        },
        "id": "rJf-rjJwOO6m",
        "outputId": "fc28a388-078c-41a7-c474-3323e1f0bdd3"
      },
      "outputs": [
        {
          "name": "stdout",
          "output_type": "stream",
          "text": [
            " hi studentsx 5\n"
          ]
        }
      ],
      "source": [
        "#writing a function to understand a mismatch parameters\n",
        "def abc(x):\n",
        "  print(\" hi students\"+\"x\",x)\n",
        "abc(5)#strings doesnot support + operator"
      ]
    },
    {
      "cell_type": "code",
      "execution_count": null,
      "metadata": {
        "colab": {
          "base_uri": "https://localhost:8080/"
        },
        "id": "2S7vdfJEORWJ",
        "outputId": "4f1be411-fe7c-433a-c17b-9c2e7cb0a0f0"
      },
      "outputs": [
        {
          "name": "stdout",
          "output_type": "stream",
          "text": [
            "orange 10\n"
          ]
        }
      ],
      "source": [
        "#writing a function to understand a mismatch parameters\n",
        "def fun(i):\n",
        "  print(\"orange\",i)\n",
        "j=10\n",
        "fun(j)"
      ]
    },
    {
      "cell_type": "code",
      "execution_count": null,
      "metadata": {
        "colab": {
          "base_uri": "https://localhost:8080/"
        },
        "id": "rQPIgFUSPDTF",
        "outputId": "7447c710-6234-42cf-8cd5-861dcc8752ec"
      },
      "outputs": [
        {
          "name": "stdout",
          "output_type": "stream",
          "text": [
            "orange 13\n"
          ]
        }
      ],
      "source": [
        "#writing a function to understand a mismatch parameters\n",
        "def fun(i):\n",
        "  print(\"orange\",i)\n",
        "fun(5+2*4)"
      ]
    },
    {
      "cell_type": "code",
      "execution_count": null,
      "metadata": {
        "colab": {
          "base_uri": "https://localhost:8080/"
        },
        "id": "rgp1az2ZPVaa",
        "outputId": "87d8d0fb-e00e-4d8b-a033-d4aa5198197f"
      },
      "outputs": [
        {
          "name": "stdout",
          "output_type": "stream",
          "text": [
            "the string is   hi\n",
            "the integer is  1234\n",
            "the float is  5678.9998\n"
          ]
        }
      ],
      "source": [
        "#program to demonstrate key arguments\n",
        "\n",
        "def display(str,int_x,float_y):\n",
        "  print(\"the string is \",str)\n",
        "  print(\"the integer is \",int_x)\n",
        "  print(\"the float is \",float_y)\n",
        "display(float_y= 5678.9998, str=\" hi\",int_x=1234)"
      ]
    },
    {
      "cell_type": "code",
      "execution_count": null,
      "metadata": {
        "colab": {
          "base_uri": "https://localhost:8080/"
        },
        "id": "A9ziz6OPQe12",
        "outputId": "581c3c87-59eb-40b2-def5-721adc88b3b9"
      },
      "outputs": [
        {
          "name": "stdout",
          "output_type": "stream",
          "text": [
            "name is  Lucky\n",
            "age is  19\n",
            "salary is 67000\n"
          ]
        }
      ],
      "source": [
        "#program to demonstrate key arguments\n",
        "\n",
        "def display(name,age,salary):\n",
        "  print(\"name is \",name)\n",
        "  print(\"age is \",age)\n",
        "  print(\"salary is\",salary)\n",
        "a=\"Lucky\"\n",
        "b=19\n",
        "c=67000\n",
        "display(name=a,age=b,salary=c)"
      ]
    },
    {
      "cell_type": "code",
      "execution_count": null,
      "metadata": {
        "colab": {
          "base_uri": "https://localhost:8080/"
        },
        "id": "nS8HJvOWTBGy",
        "outputId": "6b530ee6-c295-4afa-93df-1863fd401480"
      },
      "outputs": [
        {
          "name": "stdout",
          "output_type": "stream",
          "text": [
            "sum= 60\n"
          ]
        }
      ],
      "source": [
        "addition=lambda x,y,z:x+y+z\n",
        "print(\"sum=\",addition(10,20,30))"
      ]
    },
    {
      "cell_type": "code",
      "execution_count": null,
      "metadata": {
        "colab": {
          "base_uri": "https://localhost:8080/"
        },
        "id": "lLXC1U_cUFfG",
        "outputId": "d072876b-1fa3-495e-cf6b-e16213caba0c"
      },
      "outputs": [
        {
          "name": "stdout",
          "output_type": "stream",
          "text": [
            "smaller of two number: -5\n"
          ]
        }
      ],
      "source": [
        "def small(a,b):\n",
        "  if(a<b):\n",
        "    return a\n",
        "  else:\n",
        "    return b\n",
        "addition=lambda x,y:x+y\n",
        "difference=lambda x,y:x-y\n",
        "print(\"smaller of two number:\",small(addition(-3,-2),difference(-1,2)))"
      ]
    },
    {
      "cell_type": "code",
      "execution_count": null,
      "metadata": {
        "colab": {
          "base_uri": "https://localhost:8080/"
        },
        "id": "ydchIyzBeRp2",
        "outputId": "52c18a88-b788-47a0-cd27-7e846776681e"
      },
      "outputs": [
        {
          "name": "stdout",
          "output_type": "stream",
          "text": [
            "a= 100\n",
            "a after incrementing\n",
            "101\n"
          ]
        }
      ],
      "source": [
        "\n",
        "def increment(y):\n",
        "  return (lambda x:x+1)(y)\n",
        "\n",
        "a=100\n",
        "print(\"a=\",a)\n",
        "print(\"a after incrementing\")\n",
        "b=increment(a)\n",
        "print(b)"
      ]
    },
    {
      "cell_type": "code",
      "execution_count": null,
      "metadata": {
        "colab": {
          "base_uri": "https://localhost:8080/"
        },
        "id": "xQPno6uziQBj",
        "outputId": "d99d37b7-8ed3-444a-eba1-5d3ee2bccdcc"
      },
      "outputs": [
        {
          "name": "stdout",
          "output_type": "stream",
          "text": [
            "8\n",
            "9\n"
          ]
        }
      ],
      "source": [
        "#program to pass a lambda function as an function argument\n",
        "\n",
        "def fun(f,n):\n",
        "  print(f(n))\n",
        "twice=lambda x:x*2\n",
        "triple=lambda x:x*3\n",
        "fun(twice,4)\n",
        "fun(triple,3)"
      ]
    },
    {
      "cell_type": "code",
      "execution_count": null,
      "metadata": {
        "colab": {
          "base_uri": "https://localhost:8080/"
        },
        "id": "YqU7o7hKjFqP",
        "outputId": "9417ca54-50d4-40e6-cd92-45641ad47236"
      },
      "outputs": [
        {
          "name": "stdout",
          "output_type": "stream",
          "text": [
            "27\n"
          ]
        }
      ],
      "source": [
        "add=lambda x,y:x+y\n",
        "m_and_add=lambda x,y,z : x*add(y,z)\n",
        "print(m_and_add(3,4,5))"
      ]
    },
    {
      "cell_type": "code",
      "execution_count": null,
      "metadata": {
        "colab": {
          "base_uri": "https://localhost:8080/"
        },
        "id": "_2GnpIkmj3mY",
        "outputId": "6f2d3a17-9442-45b1-ac2d-5f7d71a93a8e"
      },
      "outputs": [
        {
          "name": "stdout",
          "output_type": "stream",
          "text": [
            "55\n"
          ]
        }
      ],
      "source": [
        "x=lambda : sum(range(1,11))\n",
        "print(x())"
      ]
    },
    {
      "cell_type": "code",
      "execution_count": null,
      "metadata": {
        "colab": {
          "base_uri": "https://localhost:8080/"
        },
        "id": "tGE3mCwAkRcB",
        "outputId": "c0c7dd06-647a-433f-e6e6-4fdd93ffd5d3"
      },
      "outputs": [
        {
          "name": "stdout",
          "output_type": "stream",
          "text": [
            "(10, 20)\n",
            "(20, 10)\n"
          ]
        }
      ],
      "source": [
        "#swapping of two numbers\n",
        "def swap(a,b):\n",
        "  temp=a\n",
        "  a=b\n",
        "  b=temp\n",
        "  return(a,b)\n",
        "\n",
        "a=10\n",
        "b=20\n",
        "print((a,b))\n",
        "print(swap(a,b))"
      ]
    },
    {
      "cell_type": "code",
      "execution_count": null,
      "metadata": {
        "colab": {
          "base_uri": "https://localhost:8080/"
        },
        "id": "trOIh6EzjrVT",
        "outputId": "57b26f1c-6ba9-42dc-e8bc-c6efc93425ee"
      },
      "outputs": [
        {
          "name": "stdout",
          "output_type": "stream",
          "text": [
            "(10, 20, 30)\n",
            "(30, 10, 20)\n"
          ]
        }
      ],
      "source": [
        "#swapping of two numbers\n",
        "def swap(a,b,c):\n",
        "  temp=b\n",
        "  b=a\n",
        "  a=c\n",
        "  c=temp\n",
        "  return(a,b,c)\n",
        "\n",
        "a=10\n",
        "b=20\n",
        "c=30\n",
        "print((a,b,c))\n",
        "print(swap(a,b,c))"
      ]
    },
    {
      "cell_type": "code",
      "execution_count": null,
      "metadata": {
        "colab": {
          "base_uri": "https://localhost:8080/"
        },
        "id": "F3q95Fu7k3EB",
        "outputId": "3e7fd721-87be-4607-d511-650b162f0144"
      },
      "outputs": [
        {
          "name": "stdout",
          "output_type": "stream",
          "text": [
            "(10, 20, 30)\n",
            "(20, 30, 10)\n"
          ]
        }
      ],
      "source": [
        "#swapping of two numbers\n",
        "def swap(a,b,c):\n",
        "  temp=b\n",
        "  b=c\n",
        "  c=a\n",
        "  a=temp\n",
        "  return(a,b,c)\n",
        "\n",
        "a=10\n",
        "b=20\n",
        "c=30\n",
        "print((a,b,c))\n",
        "print(swap(a,b,c))"
      ]
    },
    {
      "cell_type": "code",
      "execution_count": null,
      "metadata": {
        "colab": {
          "base_uri": "https://localhost:8080/"
        },
        "id": "KHH3zeyhmG8G",
        "outputId": "9b80126e-8cab-477f-bd61-3342e4b87db8"
      },
      "outputs": [
        {
          "name": "stdout",
          "output_type": "stream",
          "text": [
            "(10, 20)\n",
            "(20, 10)\n"
          ]
        }
      ],
      "source": [
        "def swap(a,b):\n",
        "  a,b=b,a\n",
        "  return(a,b)\n",
        "\n",
        "a=10\n",
        "b=20\n",
        "print((a,b))\n",
        "print(swap(a,b))"
      ]
    },
    {
      "cell_type": "code",
      "execution_count": null,
      "metadata": {
        "colab": {
          "base_uri": "https://localhost:8080/"
        },
        "id": "DIodRGaum8h9",
        "outputId": "668cbe1e-4a50-47f1-915e-c4a7bb6dde10"
      },
      "outputs": [
        {
          "name": "stdout",
          "output_type": "stream",
          "text": [
            "[24, 35, 9, 56, 12]\n"
          ]
        }
      ],
      "source": [
        "def swapList(newList):\n",
        "    size = len(newList)\n",
        "    # Swapping \n",
        "    temp = newList[0]\n",
        "    newList[0] = newList[size - 1]\n",
        "    newList[size - 1] = temp\n",
        "    return newList\n",
        "# Driver code\n",
        "newList = [12,35,9,56,24]\n",
        "print(swapList(newList))"
      ]
    },
    {
      "cell_type": "code",
      "execution_count": null,
      "metadata": {
        "colab": {
          "base_uri": "https://localhost:8080/"
        },
        "id": "PS71Z5Hemfj2",
        "outputId": "59eca075-e9a6-4d6f-8116-d81312d1944a"
      },
      "outputs": [
        {
          "name": "stdout",
          "output_type": "stream",
          "text": [
            "Lucky valupadasu\n"
          ]
        }
      ],
      "source": [
        "def name(fn,ln):\n",
        "  s=' '\n",
        "  n=fn+s+ln\n",
        "  return n\n",
        "print(name(\"Lucky\",\"valupadasu\"))\n"
      ]
    },
    {
      "cell_type": "code",
      "execution_count": null,
      "metadata": {
        "colab": {
          "base_uri": "https://localhost:8080/"
        },
        "id": "yuz4q_b8nz3L",
        "outputId": "08ea694b-b5a7-41d0-cce5-e52162e712d5"
      },
      "outputs": [
        {
          "name": "stdout",
          "output_type": "stream",
          "text": [
            "enter a number:3\n",
            "enter number is odd\n"
          ]
        }
      ],
      "source": [
        "def n(x):\n",
        "  if(x%2==0):\n",
        "    return 1\n",
        "  else:\n",
        "    return -1\n",
        "\n",
        "x=int(input(\"enter a number:\"))\n",
        "y=n(x)\n",
        "if(y==0):\n",
        "  print(\"entered number is even\")\n",
        "else:\n",
        "  print(\"enter number is odd\")\n",
        "\n"
      ]
    },
    {
      "cell_type": "code",
      "execution_count": null,
      "metadata": {
        "colab": {
          "base_uri": "https://localhost:8080/"
        },
        "id": "xaQh4z7ToXwc",
        "outputId": "b3af8bb8-7017-4fb2-c78d-f22b491d186d"
      },
      "outputs": [
        {
          "name": "stdout",
          "output_type": "stream",
          "text": [
            "36.0\n"
          ]
        }
      ],
      "source": [
        "p=200\n",
        "r=3\n",
        "t=6\n",
        "si=p*t*r/100\n",
        "print(si)"
      ]
    },
    {
      "cell_type": "code",
      "execution_count": null,
      "metadata": {
        "colab": {
          "base_uri": "https://localhost:8080/"
        },
        "id": "RUEoarg3qaiF",
        "outputId": "0c09c96f-b183-4847-9a56-23a6f21f490c"
      },
      "outputs": [
        {
          "name": "stdout",
          "output_type": "stream",
          "text": [
            "5\n",
            "120\n"
          ]
        }
      ],
      "source": [
        "def fact(n):\n",
        "  if(n==1 or n==0):\n",
        "    return 1\n",
        "  else:\n",
        "    return n*fact(n-1)\n",
        "n=int(input())\n",
        "print(fact(n))"
      ]
    },
    {
      "cell_type": "code",
      "execution_count": null,
      "metadata": {
        "colab": {
          "base_uri": "https://localhost:8080/"
        },
        "id": "sSLtcydWrapX",
        "outputId": "9a4c843c-7600-4c1a-83a2-c6189694cc2f"
      },
      "outputs": [
        {
          "name": "stdout",
          "output_type": "stream",
          "text": [
            "8\n"
          ]
        }
      ],
      "source": [
        "#program to find the exp(x,y) using recursion function\n",
        "def exp(x,y):\n",
        "  return x**y\n",
        "a=2\n",
        "b=3\n",
        "operation=exp\n",
        "print(operation(a,b))"
      ]
    },
    {
      "cell_type": "code",
      "execution_count": null,
      "metadata": {
        "colab": {
          "base_uri": "https://localhost:8080/"
        },
        "id": "mscRGGGl94ep",
        "outputId": "b0e8b944-c0a2-4699-b326-1c4bbb91e291"
      },
      "outputs": [
        {
          "name": "stdout",
          "output_type": "stream",
          "text": [
            "enter a value:3\n",
            "enter a value:3\n",
            "27\n"
          ]
        }
      ],
      "source": [
        "#program to find the exp(x,y) using recursion function\n",
        "def exp(x,y):\n",
        "  if(y==0):\n",
        "    return 1;\n",
        "  else:\n",
        "    return x*exp(x,y-1)\n",
        "\n",
        "x=int(input(\"enter a value:\"))\n",
        "y=int(input(\"enter a value:\"))\n",
        "print(exp(x,y))"
      ]
    },
    {
      "cell_type": "code",
      "execution_count": null,
      "metadata": {
        "colab": {
          "base_uri": "https://localhost:8080/"
        },
        "id": "RlnIfBPI-jKP",
        "outputId": "a926c9ef-57a4-4ccb-88ba-fdd15aa6564e"
      },
      "outputs": [
        {
          "name": "stdout",
          "output_type": "stream",
          "text": [
            "enter number5\n",
            "Fibonacci sequence:\n",
            "0\n",
            "1\n",
            "1\n",
            "2\n",
            "3\n"
          ]
        }
      ],
      "source": [
        "def recur_fibo(n):\n",
        "   if n <= 1:\n",
        "       return n\n",
        "   else:\n",
        "       return(recur_fibo(n-1) + recur_fibo(n-2))\n",
        "\n",
        "no=int(input(\"enter number\"))\n",
        "if no <= 0:\n",
        "   print(\"Plese enter a positive integer\")\n",
        "else:\n",
        "   print(\"Fibonacci sequence:\")\n",
        "   for i in range(no):\n",
        "       print(recur_fibo(i))"
      ]
    },
    {
      "cell_type": "code",
      "execution_count": null,
      "metadata": {
        "colab": {
          "base_uri": "https://localhost:8080/"
        },
        "id": "nwYEv7ZKAZ0K",
        "outputId": "05600d96-4646-41ff-fc91-91b98f396def"
      },
      "outputs": [
        {
          "name": "stdout",
          "output_type": "stream",
          "text": [
            "enter the range:10\n",
            "1 1 2 3 5 8 13 21 34 55 "
          ]
        }
      ],
      "source": [
        "def fib(n):\n",
        "  if n<2:\n",
        "    return 1\n",
        "  return (fib(n-1)+fib(n-2))\n",
        "n=int(input(\"enter the range:\"))\n",
        "for i in range(n):\n",
        "  print(fib(i),end=\" \")"
      ]
    },
    {
      "cell_type": "code",
      "execution_count": null,
      "metadata": {
        "id": "l8a6U34UT3y7"
      },
      "outputs": [],
      "source": [
        "def fib(n):\n",
        "  if n<2:\n",
        "    return 1\n",
        "  return (fib(n-1)+fib(n-2))\n",
        "n=int(input(\"enter the range:\"))\n",
        "for i in range(n):\n",
        "  print(\"Fibonacci(\",i,\") = \",fib(i))"
      ]
    },
    {
      "cell_type": "code",
      "execution_count": null,
      "metadata": {
        "colab": {
          "base_uri": "https://localhost:8080/"
        },
        "id": "XVIrGBlIHjIQ",
        "outputId": "a9415cf4-5fc8-4620-8451-026b0d25d778"
      },
      "outputs": [
        {
          "name": "stdout",
          "output_type": "stream",
          "text": [
            "source intermediate\n",
            "move 2 source destination\n",
            "intermediate destination\n",
            "move 3 source destination\n",
            "intermediate destination\n",
            "move 2 intermediate source\n",
            "destination source\n"
          ]
        }
      ],
      "source": [
        "def hanoi(n,source,intermediate,destination):\n",
        "    if n==1:\n",
        "        print (source,intermediate)\n",
        "        return\n",
        "    hanoi(n-1,source,intermediate,destination)\n",
        "    print (\"move\",n,source,destination)\n",
        "    hanoi(n-1,intermediate,destination,source)    \n",
        "\n",
        "n = 3\n",
        "hanoi(n,'source','intermediate','destination')  "
      ]
    },
    {
      "cell_type": "code",
      "execution_count": null,
      "metadata": {
        "colab": {
          "base_uri": "https://localhost:8080/"
        },
        "id": "j9eG16_YHv4l",
        "outputId": "516928d6-bdfa-4c89-98f5-d84a979abf56"
      },
      "outputs": [
        {
          "name": "stdout",
          "output_type": "stream",
          "text": [
            "[1, 2, 3, 4] [] []\n"
          ]
        }
      ],
      "source": [
        "#iteration\n",
        "\n",
        "def hanoi(n,a,b,c):\n",
        "  if n>0:\n",
        "    hanoi(n-1,a,c,b)\n",
        "    if a:\n",
        "      c.append(a.pop())\n",
        "    hanoi(n-1,b,a,c)\n",
        "a=[1,2,3,4]\n",
        "b=[]\n",
        "c=[]\n",
        "print(a,b,c)\n",
        "hanoi(len(a),a,b,c)"
      ]
    },
    {
      "cell_type": "code",
      "execution_count": null,
      "metadata": {
        "colab": {
          "base_uri": "https://localhost:8080/"
        },
        "id": "sPuzGgrSMFgF",
        "outputId": "bcc09590-990e-4a61-d870-6e80401bb89a"
      },
      "outputs": [
        {
          "name": "stdout",
          "output_type": "stream",
          "text": [
            "enter the string with charledk\n",
            "enter the string for matchlucky\n",
            "with wild characters: ledk\n",
            "without wild characters :: lucky\n",
            "False\n"
          ]
        }
      ],
      "source": [
        "#check if two strings match where one string contains wildcard characters\n",
        "\n",
        "def solve(a,b):\n",
        "  n,m=len(a),len(b)\n",
        "  if n==0 and m==0:\n",
        "    return True\n",
        "  if n>1 and a[0]=='*' and m==0:\n",
        "    return False\n",
        "  if(n>1 and a[0]=='?') or (n !=0 and m !=0 and a[0]==b[0]):\n",
        "    return solve(a[1:],b[1:])\n",
        "  if n!=0 and a[0]=='*':\n",
        "    return solve(a[1:],b) or solve(a,b[1:])\n",
        "  return False\n",
        "x=str(input(\"enter the string with char\"))\n",
        "y=str(input(\"enter the string for match\"))\n",
        "print(\"with wild characters:\",x)\n",
        "print(\"without wild characters ::\",y)\n",
        "print(solve(x,y))"
      ]
    },
    {
      "cell_type": "code",
      "execution_count": null,
      "metadata": {
        "colab": {
          "base_uri": "https://localhost:8080/"
        },
        "id": "q00TATG6Xh9o",
        "outputId": "263b9284-be6e-40b8-a03f-d9ca896ba46a"
      },
      "outputs": [
        {
          "name": "stdout",
          "output_type": "stream",
          "text": [
            "HeLIo\n",
            "221\n"
          ]
        }
      ],
      "source": [
        "def test(strs):\n",
        "    return sum(map(ord,filter(str.isupper,strs)))\n",
        "strs= \"HeLIo\"\n",
        "print(strs)\n",
        "print(test(strs))"
      ]
    },
    {
      "cell_type": "code",
      "execution_count": null,
      "metadata": {
        "colab": {
          "base_uri": "https://localhost:8080/"
        },
        "id": "MYFejZivdnnx",
        "outputId": "9d6a18f0-2323-47c7-ebbe-c2b3b1bbcf38"
      },
      "outputs": [
        {
          "name": "stdout",
          "output_type": "stream",
          "text": [
            "[1, 2]\n",
            "[3, 4]\n",
            "[5, 6]\n"
          ]
        }
      ],
      "source": [
        "list=[1,2,3,4,5,6]\n",
        "start = 0\n",
        "end = len(list)\n",
        "step = 2\n",
        "for i in range(start, end, step):\n",
        "  x=i\n",
        "  print(list[x:x+step])"
      ]
    },
    {
      "cell_type": "code",
      "execution_count": null,
      "metadata": {
        "colab": {
          "base_uri": "https://localhost:8080/"
        },
        "id": "szvreMxSe5LF",
        "outputId": "5c22ea3f-81e1-4052-f79f-66b5780b80f6"
      },
      "outputs": [
        {
          "name": "stdout",
          "output_type": "stream",
          "text": [
            "720\n"
          ]
        }
      ],
      "source": [
        "def mul(n):\n",
        "  total=1\n",
        "  for x in n:\n",
        "    total *=x\n",
        "  return total\n",
        "print(mul((1,2,3,4,5,6)))\n"
      ]
    },
    {
      "cell_type": "code",
      "execution_count": null,
      "metadata": {
        "colab": {
          "base_uri": "https://localhost:8080/"
        },
        "id": "jLJtWtxDjkah",
        "outputId": "20c5b36f-c341-4bf7-99b0-bf482cc2ca19"
      },
      "outputs": [
        {
          "name": "stdout",
          "output_type": "stream",
          "text": [
            "22\n"
          ]
        }
      ],
      "source": [
        "#oopc\n",
        "#program to access class variable using class object\n",
        "\n",
        "class abc:\n",
        "  var=22\n",
        "obj=abc()\n",
        "print(obj.var)"
      ]
    },
    {
      "cell_type": "code",
      "execution_count": null,
      "metadata": {
        "colab": {
          "base_uri": "https://localhost:8080/"
        },
        "id": "wGgjse82Prci",
        "outputId": "50569c9f-3a16-4517-d364-d0ec6e69570e"
      },
      "outputs": [
        {
          "name": "stdout",
          "output_type": "stream",
          "text": [
            "22\n",
            "99\n",
            "This is class method\n"
          ]
        }
      ],
      "source": [
        "class abc:\n",
        "  var=22\n",
        "  var2=99\n",
        "  def display(self):\n",
        "    print(\"This is class method\")\n",
        "obj=abc()\n",
        "print(obj.var)\n",
        "print(obj.var2)\n",
        "obj.display()"
      ]
    },
    {
      "cell_type": "code",
      "execution_count": null,
      "metadata": {
        "colab": {
          "base_uri": "https://localhost:8080/"
        },
        "id": "YNUW1eZ5Qnvb",
        "outputId": "6478c394-e1cb-4d04-f6a5-e89340cf7033"
      },
      "outputs": [
        {
          "name": "stdout",
          "output_type": "stream",
          "text": [
            "in class method\n",
            "the val is: 10\n"
          ]
        }
      ],
      "source": [
        "#program to illlustrate the constructor\n",
        "#__init__()......method\n",
        "\n",
        "class abc:\n",
        "  def __init__(self, val):\n",
        "    print(\"in class method\")\n",
        "    self.val=val\n",
        "    print(\"the val is:\",val)\n",
        "obj=abc(10)"
      ]
    },
    {
      "cell_type": "code",
      "execution_count": null,
      "metadata": {
        "colab": {
          "base_uri": "https://localhost:8080/"
        },
        "id": "Mut5peceTdus",
        "outputId": "edafb6c4-4e8c-455e-e6fc-39c4ff97246f"
      },
      "outputs": [
        {
          "name": "stdout",
          "output_type": "stream",
          "text": [
            "the obj var is 10\n",
            "the class val is 1\n",
            "the obj var is 20\n",
            "the class val is 2\n",
            "the obj var is 30\n",
            "the class val is 3\n"
          ]
        }
      ],
      "source": [
        "#program to differentiate between class and object variable\n",
        "\n",
        "class abc:\n",
        "  class_var=0 #class var\n",
        "  def __init__(self,var):\n",
        "    abc.class_var +=1\n",
        "    self.var=var  #obj var\n",
        "    print(\"the obj var is\",var)\n",
        "    print(\"the class val is\",abc.class_var)\n",
        "obj1=abc(10)\n",
        "obj2=abc(20)\n",
        "obj3=abc(30)"
      ]
    },
    {
      "cell_type": "code",
      "execution_count": null,
      "metadata": {
        "id": "anY_YFMVWR1D"
      },
      "outputs": [],
      "source": [
        "#program illustrating even or odd\n",
        "\n",
        "class Number:\n",
        "  even=0\n",
        "  def check(self,num):\n",
        "    if num%2==0:\n",
        "      self.even=1\n",
        "  def even_odd(self,num):\n",
        "    self.check(num)\n",
        "    if self.even==1:\n",
        "      print(num, \"is even \")\n",
        "    else:\n",
        "      print(num,\" is odd \")"
      ]
    },
    {
      "cell_type": "code",
      "execution_count": null,
      "metadata": {
        "colab": {
          "base_uri": "https://localhost:8080/"
        },
        "id": "GiGPCu3idUfc",
        "outputId": "9c144360-7dd7-44c4-a65c-2dea9eb16b08"
      },
      "outputs": [
        {
          "name": "stdout",
          "output_type": "stream",
          "text": [
            "even numbers [22, 24]\n",
            "odd numbers [21, 23, 25]\n"
          ]
        }
      ],
      "source": [
        "#illustrating modifications on numerics\n",
        "class Number:\n",
        "  evens=[]\n",
        "  odds=[]\n",
        "  def __init__(self,num):\n",
        "    self.num=num\n",
        "    if num%2==0:\n",
        "      Number.evens.append(num)\n",
        "    else:\n",
        "      Number.odds.append(num)\n",
        "n1=Number(21)\n",
        "n2=Number(22)\n",
        "n3=Number(23)\n",
        "n4=Number(24)\n",
        "n5=Number(25)\n",
        "print(\"even numbers\",Number.evens)\n",
        "print(\"odd numbers\",Number.odds)"
      ]
    },
    {
      "cell_type": "code",
      "execution_count": null,
      "metadata": {
        "colab": {
          "base_uri": "https://localhost:8080/"
        },
        "id": "8iSztclcZCFu",
        "outputId": "8303e2ac-43b4-4d98-de7e-69ca50329c6e"
      },
      "outputs": [
        {
          "name": "stdout",
          "output_type": "stream",
          "text": [
            "The obj value is 11\n",
            "the class value is 1\n",
            "The obj value is 22\n",
            "the class value is 2\n",
            "The obj value is 33\n",
            "the class value is 3\n",
            "object with value 11 is going out of scope\n",
            "object with value 22 is going out of scope\n",
            "object with value 33 is going out of scope\n"
          ]
        }
      ],
      "source": [
        "#delete method\n",
        "#general syntax __del__\n",
        "\n",
        "class abc():\n",
        "  class_var = 0\n",
        "  def __init__(self, var):\n",
        "    abc.class_var +=1\n",
        "    self.var=var\n",
        "    print(\"The obj value is\",var)\n",
        "    print(\"the class value is\",abc.class_var)\n",
        "  def __del__(self):\n",
        "    abc.class_var -=1\n",
        "    print(\"object with value %d is going out of scope\"%self.var)\n",
        "\n",
        "obj1=abc(11)\n",
        "obj2=abc(22)\n",
        "obj3=abc(33)\n",
        "\n",
        "del obj1\n",
        "del obj2\n",
        "del obj3\n"
      ]
    },
    {
      "cell_type": "code",
      "execution_count": null,
      "metadata": {
        "colab": {
          "base_uri": "https://localhost:8080/"
        },
        "id": "Weoj8nSnuOXK",
        "outputId": "7a7431a2-2706-4935-d459-1e47db9cde06"
      },
      "outputs": [
        {
          "name": "stdout",
          "output_type": "stream",
          "text": [
            "4\n",
            "[1, 2, 3, 4, 5, 6, 7, 8, 9]\n",
            "[1, 2, 3, 10, 5, 6, 7, 8, 9]\n"
          ]
        }
      ],
      "source": [
        "#program to demonstrate get and set items in a list\n",
        "\n",
        "class numbers:\n",
        "  def __init__(self, mylist):\n",
        "    self.mylist=mylist\n",
        "  def __getitem__(self, index):\n",
        "    return self.mylist[index]\n",
        "  def __setitem__(self, index, val):\n",
        "    self.mylist[index]=val\n",
        "\n",
        "numlist=numbers([1,2,3,4,5,6,7,8,9])\n",
        "print(numlist[3])\n",
        "print(numlist.mylist)\n",
        "numlist[3]=10\n",
        "print(numlist.mylist)"
      ]
    },
    {
      "cell_type": "code",
      "execution_count": null,
      "metadata": {
        "colab": {
          "base_uri": "https://localhost:8080/"
        },
        "id": "6H2ioubRx92J",
        "outputId": "98470898-3681-4e70-c410-597e302a14ff"
      },
      "outputs": [
        {
          "name": "stdout",
          "output_type": "stream",
          "text": [
            "The value stored in obj is 10\n",
            "The length of the name stored in obj 6\n",
            "2nd value is less than 1st\n"
          ]
        }
      ],
      "source": [
        "class ABC():\n",
        "  def __init__(self, name, var):\n",
        "    self.name=name\n",
        "    self.var=var\n",
        "  def __repr__(self):\n",
        "    return repr(self.var)\n",
        "  def __len__(self):\n",
        "    return len(self.name)\n",
        "  def __cmp__(self,obj):\n",
        "    return self.var - obj.var\n",
        "\n",
        "obj=ABC(\"abcdef\",10)\n",
        "print(\"The value stored in obj is\",repr(obj))\n",
        "print(\"The length of the name stored in obj\",len(obj))\n",
        "obj1=ABC(\"ghijkl\",1)\n",
        "val=obj.__cmp__(obj1)\n",
        "if val==0:\n",
        "  print(\"both values are equal\")\n",
        "elif val==-1:\n",
        "  print(\"1st value is less than second\")\n",
        "else:\n",
        "  print(\"2nd value is less than 1st\")"
      ]
    },
    {
      "cell_type": "code",
      "execution_count": null,
      "metadata": {
        "colab": {
          "base_uri": "https://localhost:8080/"
        },
        "id": "tvNTUzGDGWDK",
        "outputId": "8b0a8c20-3219-4812-dd8f-0621d5f583ea"
      },
      "outputs": [
        {
          "name": "stdout",
          "output_type": "stream",
          "text": [
            "this from class method,var =  10\n"
          ]
        }
      ],
      "source": [
        "#program to illustrate how to use private method\n",
        "\n",
        "class abc():\n",
        "  def __init__(self, var):\n",
        "    self.__var=var\n",
        "  def __display(self):\n",
        "    print(\"this from class method,var = \",self.__var)\n",
        "obj=abc(10)\n",
        "obj._abc__display()"
      ]
    },
    {
      "cell_type": "code",
      "execution_count": null,
      "metadata": {
        "colab": {
          "base_uri": "https://localhost:8080/"
        },
        "id": "sk9Si-dGIDO5",
        "outputId": "69aefd6b-87ee-49f5-95fc-c5ead976514f"
      },
      "outputs": [
        {
          "name": "stdout",
          "output_type": "stream",
          "text": [
            "var is= 12\n"
          ]
        }
      ],
      "source": [
        "#To call a class method fom another method of same class\n",
        "\n",
        "class abc():\n",
        "  def __init__(self, var):\n",
        "    self.var=var\n",
        "  def display(self):\n",
        "    print(\"var is=\",self.var)\n",
        "  def add_2(self):\n",
        "    self.var +=2\n",
        "    self.display()\n",
        "\n",
        "obj=abc(10)\n",
        "obj.add_2()"
      ]
    },
    {
      "cell_type": "code",
      "execution_count": null,
      "metadata": {
        "colab": {
          "base_uri": "https://localhost:8080/"
        },
        "id": "8htRPxI2KBIE",
        "outputId": "610af4f2-a1b6-4661-b6ed-622b60b215bb"
      },
      "outputs": [
        {
          "name": "stdout",
          "output_type": "stream",
          "text": [
            "var is = 10\n",
            "var is = 100\n"
          ]
        }
      ],
      "source": [
        "#program to show how a class method calls a function which is defined in the global name space\n",
        "\n",
        "def scale_10(x):\n",
        "  return x*10\n",
        "class abc():\n",
        "  def __init__(self, var):\n",
        "    self.var=var\n",
        "  def display(self):\n",
        "    print(\"var is =\",self.var)\n",
        "  def modify(self):\n",
        "    self.var=scale_10(self.var)\n",
        "\n",
        "obj=abc(10)\n",
        "obj.display()\n",
        "obj.modify()\n",
        "obj.display()"
      ]
    },
    {
      "cell_type": "code",
      "execution_count": null,
      "metadata": {
        "colab": {
          "base_uri": "https://localhost:8080/"
        },
        "id": "j8o5uv8LNXJi",
        "outputId": "fc0b2e02-e998-4c3f-a778-ea93c4f28a81"
      },
      "outputs": [
        {
          "name": "stdout",
          "output_type": "stream",
          "text": [
            "var is 10\n",
            "check whether obj has attibute var ?\n",
            "after setting value,var is 50\n",
            "after deleting the atrribute 40\n"
          ]
        }
      ],
      "source": [
        "#program to demonstrate builtin function\n",
        "\n",
        "class abc():\n",
        "  def __init__(self,var):\n",
        "    self.var=var\n",
        "  def display(self):\n",
        "    print(\"var is\", self.var)\n",
        "obj=abc(10)\n",
        "obj.display()\n",
        "print(\"check whether obj has attibute var ?\")\n",
        "getattr(obj,'var')\n",
        "setattr(obj,'var',50)\n",
        "print(\"after setting value,var is\", obj.var)\n",
        "setattr(obj, 'count',10)\n",
        "delattr(obj,'var')\n",
        "setattr(obj, 'var',40)\n",
        "print(\"after deleting the atrribute\",obj.var)\n",
        "\n"
      ]
    },
    {
      "cell_type": "code",
      "execution_count": null,
      "metadata": {
        "colab": {
          "base_uri": "https://localhost:8080/"
        },
        "id": "bInXz0qYSVR5",
        "outputId": "737b8513-20ad-4ba7-8c54-9340c6a1c55b"
      },
      "outputs": [
        {
          "name": "stdout",
          "output_type": "stream",
          "text": [
            "var1 is= 10\n",
            "var2 is= 12.34\n",
            "object.__dict__ - {'var1': 10, 'var2': 12.34}\n",
            "object.__doc__ - None\n",
            "object.__name__ - abc\n",
            "object.__module__ - __main__\n",
            "object.__bases__ - (<class 'object'>,)\n"
          ]
        }
      ],
      "source": [
        "class abc():\n",
        "  def __init__(self, var1, var2):\n",
        "    self.var1=var1\n",
        "    self.var2=var2\n",
        "  def display(self):\n",
        "    print(\"var1 is=\",self.var1)\n",
        "    print(\"var2 is=\",self.var2)\n",
        "obj=abc(10, 12.34)\n",
        "obj.display()\n",
        "print(\"object.__dict__ -\",obj.__dict__)\n",
        "print(\"object.__doc__ -\",obj.__doc__)\n",
        "print(\"object.__name__ -\",abc.__name__)\n",
        "print(\"object.__module__ -\",obj.__module__)\n",
        "print(\"object.__bases__ -\",abc.__bases__)\n",
        "\n"
      ]
    },
    {
      "cell_type": "code",
      "execution_count": null,
      "metadata": {
        "colab": {
          "base_uri": "https://localhost:8080/"
        },
        "id": "s55xeMG3XKlk",
        "outputId": "65070da2-a318-49a7-e4d2-126fdf71519e"
      },
      "outputs": [
        {
          "name": "stdout",
          "output_type": "stream",
          "text": [
            "[91, -4, 12, 9, 14, 5]\n"
          ]
        }
      ],
      "source": [
        "class Solution:\n",
        "   def solve(self, nums):\n",
        "      evens = [num for num in nums if num % 2 == 0]\n",
        "      odds = [num for num in nums if num % 2 != 0]\n",
        "      evens.sort()\n",
        "      odds.sort(reverse=True)\n",
        "      even_i = 0\n",
        "      odd_i = 0\n",
        "      for index in range(len(nums)):\n",
        "         if nums[index] % 2 == 0:\n",
        "            nums[index] = evens[even_i]\n",
        "            even_i += 1\n",
        "         else:\n",
        "            nums[index] = odds[odd_i]\n",
        "            odd_i += 1\n",
        "      return nums\n",
        "ob = Solution()\n",
        "print(ob.solve([9, 14, 12, 91, -4, 5]))"
      ]
    },
    {
      "cell_type": "code",
      "execution_count": null,
      "metadata": {
        "colab": {
          "base_uri": "https://localhost:8080/"
        },
        "id": "lqPQ1EQSfIre",
        "outputId": "54ea62f3-42cf-432b-99e9-1df84c0b222b"
      },
      "outputs": [
        {
          "name": "stdout",
          "output_type": "stream",
          "text": [
            "[0, 2, 4, 6, 8, 10, 1, 3, 5, 7, 9]\n"
          ]
        }
      ],
      "source": [
        "Short_list =[5,7,3,2,8,1,0,10,9,4,6]\n",
        "def sort_list(my_list):\n",
        "  even_list = []\n",
        "  odd_list = []\n",
        "  for i in my_list:\n",
        "      if i % 2 == 0:\n",
        "          even_list.append(i)\n",
        "      else:\n",
        "          odd_list.append(i)\n",
        "  even_list.sort(),odd_list.sort()\n",
        "  even_list.extend(odd_list)\n",
        "  return even_list\n",
        "\n",
        "print(sort_list(Short_list))"
      ]
    },
    {
      "cell_type": "code",
      "execution_count": null,
      "metadata": {
        "colab": {
          "base_uri": "https://localhost:8080/"
        },
        "id": "UotohYGqh1k1",
        "outputId": "f1fb4ca9-77bf-496f-dfb8-04fd657eea33"
      },
      "outputs": [
        {
          "name": "stdout",
          "output_type": "stream",
          "text": [
            "[0, 2, 4, 6, 8, 10, 1, 3, 5, 7, 9]\n"
          ]
        }
      ],
      "source": [
        "Short_list =[5,7,3,2,8,1,0,10,9,4,6]\n",
        "def sort_list(my_list):\n",
        "  even_list = []\n",
        "  odd_list = []\n",
        "  for i in my_list:\n",
        "      if i % 2 == 0:\n",
        "          even_list.append(i)\n",
        "      else:\n",
        "          odd_list.append(i)\n",
        "  even_list.sort(),odd_list.sort()\n",
        "  even_list.extend(odd_list)\n",
        "  return even_list\n",
        "\n",
        "print(sort_list(Short_list))"
      ]
    },
    {
      "cell_type": "code",
      "execution_count": null,
      "metadata": {
        "colab": {
          "base_uri": "https://localhost:8080/"
        },
        "id": "g7ZiJrCvfgKl",
        "outputId": "3cf4a5f1-4790-447f-ee09-e7bdee25f500"
      },
      "outputs": [
        {
          "name": "stdout",
          "output_type": "stream",
          "text": [
            "garbage collection threshold (700, 10, 10)\n"
          ]
        }
      ],
      "source": [
        "import gc\n",
        "print(\"garbage collection threshold\",gc.get_threshold())"
      ]
    },
    {
      "cell_type": "code",
      "execution_count": null,
      "metadata": {
        "colab": {
          "base_uri": "https://localhost:8080/"
        },
        "id": "A7TVEDj1kNl0",
        "outputId": "19531d4e-4abf-4805-d26a-2ab2e8ba5399"
      },
      "outputs": [
        {
          "name": "stdout",
          "output_type": "stream",
          "text": [
            "sweet vitamin A yellow\n"
          ]
        }
      ],
      "source": [
        "#Abstarct class\n",
        "#its the process of handling the information by hiding ingormal or unnecessary infomation to the user\n",
        "\n",
        "class fruit:\n",
        "  def taste(self):\n",
        "    raise NotImplementedError()\n",
        "  def rich(self):\n",
        "    raise NotImplementedError()\n",
        "  def color(self):\n",
        "    raise NotImplementedError()\n",
        "\n",
        "class mango(fruit):\n",
        "  def taste(self):\n",
        "    return \"sweet\"\n",
        "  def rich(self):\n",
        "    return \"vitamin A\"\n",
        "  def color(self):\n",
        "    return \"yellow\"\n",
        "\n",
        "class orange(fruit):\n",
        "  def taste(self):\n",
        "    return \"sour\"\n",
        "  def rich(self):\n",
        "    return \"vitamin C\"\n",
        "  def color(self):\n",
        "    return \"orange\"\n",
        "\n",
        "Alphanso=mango()\n",
        "print(Alphanso.taste(), Alphanso.rich(),Alphanso.color())"
      ]
    },
    {
      "cell_type": "code",
      "execution_count": null,
      "metadata": {
        "colab": {
          "base_uri": "https://localhost:8080/"
        },
        "id": "Q6_LtfL7ga__",
        "outputId": "783cd0f3-4fbc-426e-acf6-41541a3339db"
      },
      "outputs": [
        {
          "name": "stdout",
          "output_type": "stream",
          "text": [
            " enter rectangle length21\n",
            "enter rectangle breadth10\n",
            "area of a rectangle 210.0\n",
            "enter rectangle breadth12\n",
            " enter rectangle length14\n",
            "area of triangle 84.0\n"
          ]
        }
      ],
      "source": [
        "class polygon:\n",
        "  def get_data(self):\n",
        "    raise NotImplementedError()\n",
        "  def area(self):\n",
        "    raise NotImplementedError()\n",
        "\n",
        "class rectangle(polygon):\n",
        "  def get_data(self):\n",
        "    self.length=float(input(\" enter rectangle length\"))\n",
        "    self.breadth=float(input(\"enter rectangle breadth\"))\n",
        "  def area(self):\n",
        "    return self.length * self.breadth\n",
        "\n",
        "class triangle(polygon):\n",
        "  def get_data(self):\n",
        "    self.base=float(input(\"enter rectangle breadth\"))\n",
        "    self.height=float(input(\" enter rectangle length\"))\n",
        "  def area(self):\n",
        "    return 0.5 * self.base * self.height\n",
        "  \n",
        "R=rectangle()\n",
        "R.get_data()\n",
        "print(\"area of a rectangle\",R.area())\n",
        "T=triangle()\n",
        "T.get_data()\n",
        "print(\"area of triangle\",T.area())"
      ]
    },
    {
      "cell_type": "code",
      "execution_count": null,
      "metadata": {
        "colab": {
          "base_uri": "https://localhost:8080/"
        },
        "id": "zJn88BpHWXjY",
        "outputId": "c769439d-17d2-4a41-b0f2-4363b0b2fc57"
      },
      "outputs": [
        {
          "name": "stdout",
          "output_type": "stream",
          "text": [
            "result is\n",
            "( 5 + 7 i)\n"
          ]
        }
      ],
      "source": [
        "#program to interviene polymorphism on complex number\n",
        "\n",
        "class Complex():\n",
        "  def __init__(self):\n",
        "    self.real = 0\n",
        "    self.img = 0\n",
        "  def setValue(self, real, img):\n",
        "    self.real=real\n",
        "    self.img=img\n",
        "  def __add__(self,c):\n",
        "    temp=Complex()\n",
        "    temp.real=self.real+c.real\n",
        "    temp.img=self.img+c.img\n",
        "    return temp\n",
        "  def display(self):\n",
        "    print(\"(\",self.real,\"+\",self.img,\"i)\")\n",
        "\n",
        "c1=Complex()\n",
        "c1.setValue(2,3)\n",
        "c2=Complex()\n",
        "c2.setValue(3,4)\n",
        "c3=c1+c2\n",
        "print(\"result is\")\n",
        "c3.display()\n"
      ]
    },
    {
      "cell_type": "code",
      "execution_count": null,
      "metadata": {
        "colab": {
          "base_uri": "https://localhost:8080/"
        },
        "id": "4c7nPTKRcTwY",
        "outputId": "f072f95f-4486-4944-9e31-401cf762b4f9"
      },
      "outputs": [
        {
          "name": "stdout",
          "output_type": "stream",
          "text": [
            "roll num is 2019\n"
          ]
        }
      ],
      "source": [
        "#encapsulation\n",
        "#encapsuling public members\n",
        "class pub:\n",
        "  def __init__(self, name, num):\n",
        "    self.name=name\n",
        "    self.num=num\n",
        "  def Num(self):\n",
        "    print(\"roll num is\",self.num)\n",
        "\n",
        "obj=pub(\"sathwika\",2019)\n",
        "obj.Num()\n"
      ]
    },
    {
      "cell_type": "code",
      "execution_count": null,
      "metadata": {
        "colab": {
          "base_uri": "https://localhost:8080/"
        },
        "id": "03YelZuHnUIO",
        "outputId": "f6954cac-567c-4cad-c8ae-6c35f0ed76d8"
      },
      "outputs": [
        {
          "name": "stdout",
          "output_type": "stream",
          "text": [
            "50\n"
          ]
        }
      ],
      "source": [
        "#program to overload the __call__method\n",
        "class multi:\n",
        "  def __init__(self,num):\n",
        "    self.num=num\n",
        "  def __call__(self,O):\n",
        "    return self.num*O\n",
        "\n",
        "x=multi(10)\n",
        "print(x(5))"
      ]
    },
    {
      "cell_type": "code",
      "execution_count": null,
      "metadata": {
        "colab": {
          "base_uri": "https://localhost:8080/"
        },
        "id": "l7iX-E0pyUBp",
        "outputId": "e9fe6809-c7df-4bd5-8267-c95e85768428"
      },
      "outputs": [
        {
          "name": "stdout",
          "output_type": "stream",
          "text": [
            "list is.....\n",
            "[1, 2, 3, 4, 5, 6, 7, 8, 9]\n",
            "enter the index of the list6\n",
            "7\n",
            "enter the index of the list7\n",
            "enter the position u want to modify22\n",
            "[1, 2, 3, 4, 5, 6, 7, 22, 9]\n",
            "length of list is: 9\n"
          ]
        }
      ],
      "source": [
        "#program to over-ride get-item and set-item methods\n",
        "\n",
        "class mylist:\n",
        "  def __init__(self, list):\n",
        "    self.list=list\n",
        "  def __getitem__(self, index):\n",
        "    return self.list[index]\n",
        "  def __setitem__(self, index, val):\n",
        "    self.list[index]=val\n",
        "  def __len__(self):\n",
        "    return len(self.list)\n",
        "  def display(self):\n",
        "    print(self.list)\n",
        "\n",
        "L=mylist([1,2,3,4,5,6,7,8,9])\n",
        "print(\"list is.....\")\n",
        "L.display()\n",
        "index=int(input(\"enter the index of the list\"))\n",
        "print(L[index])\n",
        "index=int(input(\"enter the index of the list\"))\n",
        "num=int(input(\"enter the position u want to modify\"))\n",
        "L[index]=num\n",
        "L.display()\n",
        "print(\"length of list is:\",len(L))"
      ]
    },
    {
      "cell_type": "code",
      "execution_count": null,
      "metadata": {
        "colab": {
          "base_uri": "https://localhost:8080/"
        },
        "id": "pHh1RJnS2JVK",
        "outputId": "72b3e002-a53c-4c86-bb35-fa3b3d0a108a"
      },
      "outputs": [
        {
          "name": "stdout",
          "output_type": "stream",
          "text": [
            "Number is -15\n",
            "Abs(n) is 15\n",
            "Converting to float 15.0\n",
            "Converting to hex 0xf\n",
            "Converting to oct 0o17\n"
          ]
        }
      ],
      "source": [
        "class number:\n",
        "  def __init__(self,num):\n",
        "    self.num=num\n",
        "  def display(self):\n",
        "    return self.num\n",
        "  def __abs__(self):\n",
        "    return abs(self.num)\n",
        "  def __float__(self):\n",
        "    return float(self.num)\n",
        "  def __hex__(self):\n",
        "    return hex(self.num)\n",
        "  def __oct__(self):\n",
        "    return oct(self.num)\n",
        "  def __setitem__(self,num):\n",
        "    self.num=num\n",
        "\n",
        "n = number(-15)\n",
        "print(\"Number is\",n.display())\n",
        "print(\"Abs(n) is\",abs(n))\n",
        "n = abs(n)\n",
        "print(\"Converting to float\",float(n))\n",
        "print(\"Converting to hex\",hex(n))\n",
        "print(\"Converting to oct\",oct(n))"
      ]
    },
    {
      "cell_type": "code",
      "execution_count": null,
      "metadata": {
        "colab": {
          "base_uri": "https://localhost:8080/"
        },
        "id": "MYktmOig8ZM4",
        "outputId": "8cc229da-3660-4f7e-ebc9-f3a52ff2703f"
      },
      "outputs": [
        {
          "name": "stdout",
          "output_type": "stream",
          "text": [
            "-----teacherclass--------\n",
            "name is  Mark\n",
            "age is  43\n",
            "experience is 20\n",
            "research area is JSS\n",
            "-----studentclass--------\n",
            "name is  Lucky\n",
            "age is  20\n",
            "course= B.tech\n",
            "marks= 78\n"
          ]
        }
      ],
      "source": [
        "#to visualize inheritance flow\n",
        "\n",
        "class person:\n",
        "  def __init__(self,name,age):\n",
        "    self.name=name\n",
        "    self.age=age\n",
        "  def display(self):\n",
        "    print(\"name is \",self.name)\n",
        "    print(\"age is \",self.age)\n",
        "class teacher(person):\n",
        "    def __init__(self,name,age,exp,area):\n",
        "      person.__init__(self,name,age)\n",
        "      self.exp=exp\n",
        "      self.area=area\n",
        "    def displaydata(self):\n",
        "      person.display(self)\n",
        "      print(\"experience is\",self.exp)\n",
        "      print(\"research area is\",self.area)\n",
        "class student(person):\n",
        "  def __init__(self,name,age,course,marks):\n",
        "    person.__init__(self,name,age)\n",
        "    self.course=course\n",
        "    self.marks=marks\n",
        "  def displaydata(self):\n",
        "    person.display(self)\n",
        "    print(\"course=\",self.course)\n",
        "    print(\"marks=\",self.marks)\n",
        "\n",
        "print(\"-----teacherclass--------\")\n",
        "T=teacher(\"Mark\",43,20,\"JSS\")\n",
        "T.displaydata()\n",
        "print(\"-----studentclass--------\")\n",
        "S=student(\"Lucky\",20,\"B.tech\",78)\n",
        "S.displaydata()"
      ]
    },
    {
      "cell_type": "code",
      "execution_count": null,
      "metadata": {
        "colab": {
          "base_uri": "https://localhost:8080/"
        },
        "id": "Id1_dZQXYOxh",
        "outputId": "db07b662-387b-4ba2-8647-8010676e7c41"
      },
      "outputs": [
        {
          "name": "stdout",
          "output_type": "stream",
          "text": [
            "-----teacherclass--------\n",
            "name is  Mark\n",
            "age is  43\n",
            "experience is 20\n",
            "research area is JSS\n",
            "-----studentclass--------\n",
            "name is  Lucky\n",
            "age is  20\n",
            "course= B.tech\n",
            "marks= 78\n",
            "T is teacher: True\n",
            "T is integer: False\n",
            "T is a person: True\n",
            "T is a object: True\n",
            "person is subclass of teacher False\n",
            "Teacher is subclass of person True\n",
            "boolean is a subclass of int: True\n"
          ]
        }
      ],
      "source": [
        "#to visualize inheritance flow\n",
        "\n",
        "class person:\n",
        "  def __init__(self,name,age):\n",
        "    self.name=name\n",
        "    self.age=age\n",
        "  def display(self):\n",
        "    print(\"name is \",self.name)\n",
        "    print(\"age is \",self.age)\n",
        "class teacher(person):\n",
        "    def __init__(self,name,age,exp,area):\n",
        "      person.__init__(self,name,age)\n",
        "      self.exp=exp\n",
        "      self.area=area\n",
        "    def displaydata(self):\n",
        "      person.display(self)\n",
        "      print(\"experience is\",self.exp)\n",
        "      print(\"research area is\",self.area)\n",
        "class student(person):\n",
        "  def __init__(self,name,age,course,marks):\n",
        "    person.__init__(self,name,age)\n",
        "    self.course=course\n",
        "    self.marks=marks\n",
        "  def displaydata(self):\n",
        "    person.display(self)\n",
        "    print(\"course=\",self.course)\n",
        "    print(\"marks=\",self.marks)\n",
        "\n",
        "print(\"-----teacherclass--------\")\n",
        "T=teacher(\"Mark\",43,20,\"JSS\")\n",
        "T.displaydata()\n",
        "print(\"-----studentclass--------\")\n",
        "S=student(\"Lucky\",20,\"B.tech\",78)\n",
        "S.displaydata()\n",
        "\n",
        "print(\"T is teacher:\", isinstance(T, teacher))\n",
        "print(\"T is integer:\", isinstance(T, int))\n",
        "print(\"T is a person:\", isinstance(T, person))\n",
        "print(\"T is a object:\", isinstance(T, object))\n",
        "print(\"person is subclass of teacher\",issubclass(person,teacher))\n",
        "print(\"Teacher is subclass of person\",issubclass(teacher,person))\n",
        "print(\"boolean is a subclass of int:\",issubclass(bool,int))"
      ]
    },
    {
      "cell_type": "code",
      "execution_count": null,
      "metadata": {
        "colab": {
          "base_uri": "https://localhost:8080/"
        },
        "id": "kTN_beVFPO6d",
        "outputId": "7b328549-736b-41bb-d859-12235f2580ed"
      },
      "outputs": [
        {
          "name": "stdout",
          "output_type": "stream",
          "text": [
            "base class 1\n"
          ]
        }
      ],
      "source": [
        "#progarm to invoke __init__ in multiple inheritance\n",
        "\n",
        "class base1(object):\n",
        "  def __init__(self):\n",
        "    print(\"base class 1\")\n",
        "class base2(object):\n",
        "  def __init__(self):\n",
        "    print(\"base class 1\")\n",
        "class Derived(base1,base2):\n",
        "  pass\n",
        "D=Derived()"
      ]
    },
    {
      "cell_type": "code",
      "execution_count": null,
      "metadata": {
        "colab": {
          "base_uri": "https://localhost:8080/"
        },
        "id": "tyeIFgUqUrRz",
        "outputId": "b1c8d41a-6455-482a-9e26-7210e9609bf2"
      },
      "outputs": [
        {
          "name": "stdout",
          "output_type": "stream",
          "text": [
            "base class 1\n",
            "base class 2\n"
          ]
        }
      ],
      "source": [
        "#progarm to call constructor of base class from super\n",
        "\n",
        "class base1(object):\n",
        "  def __init__(self):\n",
        "    print(\"base class 1\")\n",
        "    super(base1, self).__init__()\n",
        "class base2(object):\n",
        "  def __init__(self):\n",
        "    print(\"base class 2\")\n",
        "class Derived(base1,base2):\n",
        "  pass\n",
        "D=Derived()"
      ]
    },
    {
      "cell_type": "code",
      "execution_count": null,
      "metadata": {
        "colab": {
          "base_uri": "https://localhost:8080/"
        },
        "id": "x90OOQOVXFaF",
        "outputId": "cfc081ad-37df-4247-f1b1-39d631dc3f01"
      },
      "outputs": [
        {
          "name": "stdout",
          "output_type": "stream",
          "text": [
            "base class 1\n",
            "base class 2\n",
            "Derived class\n"
          ]
        }
      ],
      "source": [
        "class base1(object):\n",
        "  def __init__(self):\n",
        "    print(\"base class 1\")\n",
        "    super(base1, self).__init__()\n",
        "class base2(object):\n",
        "  def __init__(self):\n",
        "    print(\"base class 2\")\n",
        "class Derived(base1,base2):\n",
        "  def __init__(self):\n",
        "    super(Derived, self).__init__()\n",
        "    print(\"Derived class\")\n",
        "    \n",
        "D=Derived()"
      ]
    },
    {
      "cell_type": "code",
      "execution_count": null,
      "metadata": {
        "colab": {
          "base_uri": "https://localhost:8080/"
        },
        "id": "9koGhaBNWWgt",
        "outputId": "9dab2b95-ca6d-4e41-b57e-2ec2305b5da1"
      },
      "outputs": [
        {
          "name": "stdout",
          "output_type": "stream",
          "text": [
            "name is...\n",
            "qualification is phd\n",
            "experience is 22 years\n"
          ]
        }
      ],
      "source": [
        "class person:\n",
        "  def name(self):\n",
        "    print(\"name is...\")\n",
        "class teacher(person):\n",
        "  def qual(self):\n",
        "    print(\"qualification is phd\")\n",
        "class hod(teacher):\n",
        "  def expe(self):\n",
        "    print(\"experience is 22 years\")\n",
        "\n",
        "HOD=hod()\n",
        "HOD.name()\n",
        "HOD.qual()\n",
        "HOD.expe()"
      ]
    },
    {
      "cell_type": "code",
      "execution_count": null,
      "metadata": {
        "colab": {
          "base_uri": "https://localhost:8080/"
        },
        "id": "-pdhz7nUa5tt",
        "outputId": "0aa41c64-a511-4716-88ef-a4cc052c662e"
      },
      "outputs": [
        {
          "name": "stdout",
          "output_type": "stream",
          "text": [
            "_____eligibility to apply_____\n",
            "academic score 90% above\n",
            "EEE score -----60% and above \n"
          ]
        }
      ],
      "source": [
        "class student:\n",
        "  def name(self):\n",
        "    print(\"name.....\")\n",
        "class academic(student):\n",
        "  def acad_score(self):\n",
        "    print(\"academic score 90% above\")\n",
        "class EEE(student):\n",
        "  def EEE_score(self):\n",
        "    print(\"EEE score -----60% and above \")\n",
        "class  result(academic,EEE):\n",
        "  def eligibility(self):\n",
        "    print(\"_____eligibility to apply_____\")\n",
        "    self.acad_score()\n",
        "    self.EEE_score()\n",
        "R=result()\n",
        "R.eligibility()"
      ]
    },
    {
      "cell_type": "code",
      "execution_count": null,
      "metadata": {
        "colab": {
          "base_uri": "https://localhost:8080/"
        },
        "id": "l4ZjfQZTc7bD",
        "outputId": "02780ca0-0232-4d46-a072-9f88e668a165"
      },
      "outputs": [
        {
          "name": "stdout",
          "output_type": "stream",
          "text": [
            "6\n",
            "101000\n",
            "1\n"
          ]
        }
      ],
      "source": [
        "size=int(input())\n",
        "count=0\n",
        "flag=0\n",
        "max=0\n",
        "str=input()\n",
        "arr=list(str)\n",
        "for i in range(0,size):\n",
        "  if arr[i] == '1':\n",
        "    count=count+1\n",
        "    flag=1\n",
        "  elif(arr[i]=='0' and flag==1):\n",
        "    count=0\n",
        "    flag=0\n",
        "  if count>max:\n",
        "    max=count\n",
        "print(max)"
      ]
    },
    {
      "cell_type": "code",
      "execution_count": null,
      "metadata": {
        "id": "ACjlSTuKCVYQ"
      },
      "outputs": [],
      "source": [
        "v=int(input())\n",
        "W=int(input())\n",
        "for i in range(x):\n",
        "  x=(4v-w)//2\n",
        "print(x)"
      ]
    },
    {
      "cell_type": "code",
      "execution_count": null,
      "metadata": {
        "colab": {
          "base_uri": "https://localhost:8080/"
        },
        "id": "5pkKkTu6iVhx",
        "outputId": "bb68d99f-5c52-41e1-d473-6102ad049ee1"
      },
      "outputs": [
        {
          "name": "stdout",
          "output_type": "stream",
          "text": [
            "non repeated character V\n"
          ]
        }
      ],
      "source": [
        "#non repeated character in string\n",
        "string=\"LEVEL\"\n",
        "for i in string:\n",
        "    count=0\n",
        "    for j in string:\n",
        "      if i==j:\n",
        "        count+=1\n",
        "      if count>1:\n",
        "        break\n",
        "    if count==1:\n",
        "      print(\"non repeated character\",i)"
      ]
    },
    {
      "cell_type": "code",
      "execution_count": null,
      "metadata": {
        "colab": {
          "background_save": true
        },
        "id": "r5btc7ybCuzy",
        "outputId": "4daf9d09-1cf4-4f40-a9f3-2f82e740e73e"
      },
      "outputs": [
        {
          "ename": "NameError",
          "evalue": "ignored",
          "output_type": "error",
          "traceback": [
            "\u001b[0;31m---------------------------------------------------------------------------\u001b[0m",
            "\u001b[0;31mNameError\u001b[0m                                 Traceback (most recent call last)",
            "\u001b[0;32m<ipython-input-13-d4f72ae94254>\u001b[0m in \u001b[0;36m<module>\u001b[0;34m\u001b[0m\n\u001b[1;32m      4\u001b[0m       \u001b[0mself\u001b[0m\u001b[0;34m.\u001b[0m\u001b[0mnextval\u001b[0m \u001b[0;34m=\u001b[0m \u001b[0;32mNone\u001b[0m\u001b[0;34m\u001b[0m\u001b[0;34m\u001b[0m\u001b[0m\n\u001b[1;32m      5\u001b[0m \u001b[0;34m\u001b[0m\u001b[0m\n\u001b[0;32m----> 6\u001b[0;31m \u001b[0;32mclass\u001b[0m \u001b[0mSLinkedList\u001b[0m\u001b[0;34m:\u001b[0m\u001b[0;34m\u001b[0m\u001b[0;34m\u001b[0m\u001b[0m\n\u001b[0m\u001b[1;32m      7\u001b[0m    \u001b[0;32mdef\u001b[0m \u001b[0m_init_\u001b[0m\u001b[0;34m(\u001b[0m\u001b[0mself\u001b[0m\u001b[0;34m)\u001b[0m\u001b[0;34m:\u001b[0m\u001b[0;34m\u001b[0m\u001b[0;34m\u001b[0m\u001b[0m\n\u001b[1;32m      8\u001b[0m       \u001b[0mself\u001b[0m\u001b[0;34m.\u001b[0m\u001b[0mheadval\u001b[0m \u001b[0;34m=\u001b[0m \u001b[0;32mNone\u001b[0m\u001b[0;34m\u001b[0m\u001b[0;34m\u001b[0m\u001b[0m\n",
            "\u001b[0;32m<ipython-input-13-d4f72ae94254>\u001b[0m in \u001b[0;36mSLinkedList\u001b[0;34m()\u001b[0m\n\u001b[1;32m     17\u001b[0m \u001b[0;34m\u001b[0m\u001b[0m\n\u001b[1;32m     18\u001b[0m \u001b[0;31m# Update the new nodes next val to existing node\u001b[0m\u001b[0;34m\u001b[0m\u001b[0;34m\u001b[0m\u001b[0;34m\u001b[0m\u001b[0m\n\u001b[0;32m---> 19\u001b[0;31m    \u001b[0mNewNode\u001b[0m\u001b[0;34m.\u001b[0m\u001b[0mnextval\u001b[0m \u001b[0;34m=\u001b[0m \u001b[0mself\u001b[0m\u001b[0;34m.\u001b[0m\u001b[0mheadval\u001b[0m\u001b[0;34m\u001b[0m\u001b[0;34m\u001b[0m\u001b[0m\n\u001b[0m\u001b[1;32m     20\u001b[0m    \u001b[0mself\u001b[0m\u001b[0;34m.\u001b[0m\u001b[0mheadval\u001b[0m \u001b[0;34m=\u001b[0m \u001b[0mNewNode\u001b[0m\u001b[0;34m\u001b[0m\u001b[0;34m\u001b[0m\u001b[0m\n\u001b[1;32m     21\u001b[0m \u001b[0;34m\u001b[0m\u001b[0m\n",
            "\u001b[0;31mNameError\u001b[0m: name 'self' is not defined"
          ]
        }
      ],
      "source": [
        "class Node:\n",
        "   def _init_(self, dataval=None):\n",
        "      self.dataval = dataval\n",
        "      self.nextval = None\n",
        "\n",
        "class SLinkedList:\n",
        "   def _init_(self):\n",
        "      self.headval = None\n",
        "# Print the linked list\n",
        "   def listprint(self):\n",
        "      printval = self.headval\n",
        "      while printval is not None:\n",
        "         print (printval.dataval)\n",
        "         printval = printval.nextval\n",
        "   def AtBegining(self,newdata):\n",
        "      NewNode = Node(newdata)\n",
        "\n",
        "# Update the new nodes next val to existing node\n",
        "   NewNode.nextval = self.headval\n",
        "   self.headval = NewNode\n",
        "\n",
        "list = SLinkedList()\n",
        "list.headval = Node(\"Mon\")\n",
        "e2 = Node(\"Tue\")\n",
        "e3 = Node(\"Wed\")\n",
        "\n"
      ]
    },
    {
      "cell_type": "code",
      "source": [
        "a=int(input())\n",
        "b=int(input())\n",
        "c=int(input())\n",
        "if (a>b &a>c):\n",
        "  print(\"a is greater\")\n",
        "elif(b>a & b>c):\n",
        "  print(\"b is greater\")\n",
        "else:\n",
        "  print(\"c is greater\")"
      ],
      "metadata": {
        "colab": {
          "base_uri": "https://localhost:8080/"
        },
        "id": "2nkzMT0BTCL3",
        "outputId": "32c028d6-9322-44a2-dd30-bb45ee2a5dd3"
      },
      "execution_count": null,
      "outputs": [
        {
          "output_type": "stream",
          "name": "stdout",
          "text": [
            "6\n",
            "5\n",
            "1\n",
            "a is greater\n"
          ]
        }
      ]
    },
    {
      "cell_type": "code",
      "source": [
        "rows=int(input(\"enter number of rows\"))\n",
        "for i in range(rows):\n",
        "  for j in range(i+1):\n",
        "    print(j+1,end=\" \")\n",
        "  print(\"\\n\")"
      ],
      "metadata": {
        "colab": {
          "base_uri": "https://localhost:8080/"
        },
        "id": "SWhmsVdCTusK",
        "outputId": "e36be5ba-e846-48b6-b1a5-0990f10cf6bf"
      },
      "execution_count": null,
      "outputs": [
        {
          "output_type": "stream",
          "name": "stdout",
          "text": [
            "enter number of rows4\n",
            "1 \n",
            "\n",
            "1 2 \n",
            "\n",
            "1 2 3 \n",
            "\n",
            "1 2 3 4 \n",
            "\n"
          ]
        }
      ]
    },
    {
      "cell_type": "code",
      "source": [
        "rows=int(input(\"enter number of rows\"))\n",
        "for i in range(rows):\n",
        "  for m in range(i+1):\n",
        "    print(\"*\",end=\" \")\n",
        "  print(\"\\n\")"
      ],
      "metadata": {
        "colab": {
          "base_uri": "https://localhost:8080/"
        },
        "id": "X0CSVXFrYL3v",
        "outputId": "95d4d478-5b0b-4e0f-c059-0974083dada3"
      },
      "execution_count": null,
      "outputs": [
        {
          "output_type": "stream",
          "name": "stdout",
          "text": [
            "enter number of rows4\n",
            "* \n",
            "\n",
            "* * \n",
            "\n",
            "* * * \n",
            "\n",
            "* * * * \n",
            "\n"
          ]
        }
      ]
    },
    {
      "cell_type": "code",
      "source": [
        "n=int(input())\n",
        "fact=1\n",
        "for i in range(1,n+1):\n",
        "  fact=fact*i\n",
        "print(fact)"
      ],
      "metadata": {
        "colab": {
          "base_uri": "https://localhost:8080/"
        },
        "id": "_femuOW_Zswi",
        "outputId": "51dcf0c1-7062-4671-a37c-ad24d3d80504"
      },
      "execution_count": null,
      "outputs": [
        {
          "output_type": "stream",
          "name": "stdout",
          "text": [
            "4\n",
            "24\n"
          ]
        }
      ]
    },
    {
      "cell_type": "code",
      "source": [
        "n=int(input())\n",
        "flag=False\n",
        "if n==1:\n",
        "  print(n,\"ia not a prime\")\n",
        "elif n>=1:\n",
        "  for i in range(2,n):\n",
        "    if(n%i==0):\n",
        "      flag=True\n",
        "      break\n",
        "if flag:\n",
        "  print(n,\"is not a prime\")\n",
        "else:\n",
        "  print(n,\"is a prime\")"
      ],
      "metadata": {
        "colab": {
          "base_uri": "https://localhost:8080/"
        },
        "id": "a3yklhmAzEQA",
        "outputId": "38fa4359-ef69-40d3-d20c-ef72a21642db"
      },
      "execution_count": null,
      "outputs": [
        {
          "output_type": "stream",
          "name": "stdout",
          "text": [
            "6\n",
            "6 is not a prime\n"
          ]
        }
      ]
    },
    {
      "cell_type": "code",
      "source": [
        "n=int(input())\n",
        "n1=0\n",
        "n2=1\n",
        "#count=0\n",
        "if n<=0:\n",
        "  print(\"positive\")\n",
        "elif n==1:\n",
        "  print(\"fibonnaci\",n)\n",
        "  print(n1)\n",
        "else:\n",
        "  print(\"Fibonaci sequence\")\n",
        "  while count<n:\n",
        "    print(n1)\n",
        "  n=n1+n2\n",
        "  n1=n2\n",
        "  n2=n\n",
        "  count+=1"
      ],
      "metadata": {
        "id": "2Nh1df7C1rhM"
      },
      "execution_count": null,
      "outputs": []
    },
    {
      "cell_type": "code",
      "source": [
        "sum=0\n",
        "num=int(input(\"enter numbers\"))\n",
        "while (num!=0):\n",
        "  temp=num%10\n",
        "  sum=sum+temp\n",
        "  num=num//10\n",
        "print(\"sum:\",sum)"
      ],
      "metadata": {
        "colab": {
          "base_uri": "https://localhost:8080/"
        },
        "id": "kFnzNk4J2BZI",
        "outputId": "0bc927b4-203d-48c8-df3f-d44bfe295f7d"
      },
      "execution_count": null,
      "outputs": [
        {
          "output_type": "stream",
          "name": "stdout",
          "text": [
            "enter numbers12345\n",
            "sum: 15\n"
          ]
        }
      ]
    },
    {
      "cell_type": "code",
      "source": [
        "my_list=[10,20,30,40]\n",
        "avg=sum(my_list)/len(my_list)\n",
        "print(\"average of all the elements:\",round(avg,3))"
      ],
      "metadata": {
        "colab": {
          "base_uri": "https://localhost:8080/",
          "height": 200
        },
        "id": "VdTt8ABQ2tj3",
        "outputId": "d8a260c7-e189-4fc0-905f-b7201d3da098"
      },
      "execution_count": null,
      "outputs": [
        {
          "output_type": "error",
          "ename": "TypeError",
          "evalue": "ignored",
          "traceback": [
            "\u001b[0;31m---------------------------------------------------------------------------\u001b[0m",
            "\u001b[0;31mTypeError\u001b[0m                                 Traceback (most recent call last)",
            "\u001b[0;32m<ipython-input-47-8af2d63dd75a>\u001b[0m in \u001b[0;36m<module>\u001b[0;34m\u001b[0m\n\u001b[1;32m      1\u001b[0m \u001b[0mmy_list\u001b[0m\u001b[0;34m=\u001b[0m\u001b[0;34m[\u001b[0m\u001b[0;36m10\u001b[0m\u001b[0;34m,\u001b[0m\u001b[0;36m20\u001b[0m\u001b[0;34m,\u001b[0m\u001b[0;36m30\u001b[0m\u001b[0;34m,\u001b[0m\u001b[0;36m40\u001b[0m\u001b[0;34m]\u001b[0m\u001b[0;34m\u001b[0m\u001b[0;34m\u001b[0m\u001b[0m\n\u001b[0;32m----> 2\u001b[0;31m \u001b[0mavg\u001b[0m\u001b[0;34m=\u001b[0m\u001b[0msum\u001b[0m\u001b[0;34m(\u001b[0m\u001b[0mmy_list\u001b[0m\u001b[0;34m)\u001b[0m\u001b[0;34m/\u001b[0m\u001b[0mlen\u001b[0m\u001b[0;34m(\u001b[0m\u001b[0mmy_list\u001b[0m\u001b[0;34m)\u001b[0m\u001b[0;34m\u001b[0m\u001b[0;34m\u001b[0m\u001b[0m\n\u001b[0m\u001b[1;32m      3\u001b[0m \u001b[0mprint\u001b[0m\u001b[0;34m(\u001b[0m\u001b[0;34m\"average of all the elements:\"\u001b[0m\u001b[0;34m,\u001b[0m\u001b[0mround\u001b[0m\u001b[0;34m(\u001b[0m\u001b[0mavg\u001b[0m\u001b[0;34m,\u001b[0m\u001b[0;36m3\u001b[0m\u001b[0;34m)\u001b[0m\u001b[0;34m)\u001b[0m\u001b[0;34m\u001b[0m\u001b[0;34m\u001b[0m\u001b[0m\n",
            "\u001b[0;31mTypeError\u001b[0m: 'int' object is not callable"
          ]
        }
      ]
    },
    {
      "cell_type": "code",
      "source": [
        "def Remove(tuples):\n",
        "  tuples=[t for t in tuples if t]\n",
        "  return tuples\n",
        "tuples=[(),('aaa',2,4),(),('bbb',5,6)]\n",
        "print(Remove(tuples))"
      ],
      "metadata": {
        "colab": {
          "base_uri": "https://localhost:8080/"
        },
        "id": "fFzF3qY54mR0",
        "outputId": "9c004119-9eec-4937-cdcf-a75697b6e003"
      },
      "execution_count": null,
      "outputs": [
        {
          "output_type": "stream",
          "name": "stdout",
          "text": [
            "[('aaa', 2, 4), ('bbb', 5, 6)]\n"
          ]
        }
      ]
    },
    {
      "cell_type": "code",
      "source": [
        "#create a tuple of string type\n",
        "#list of int type\n",
        "list1=['Red','green','white','black','pink','yellow']\n",
        "print(list1)\n",
        "list1.remove('Red')\n",
        "list1.remove('pink')\n",
        "list1.remove('yellow')\n",
        "print(list1)\n"
      ],
      "metadata": {
        "colab": {
          "base_uri": "https://localhost:8080/"
        },
        "id": "EzmRz0FJ5H_W",
        "outputId": "95b9053c-2259-4c01-dd41-a0203beb6889"
      },
      "execution_count": null,
      "outputs": [
        {
          "output_type": "stream",
          "name": "stdout",
          "text": [
            "['Red', 'green', 'white', 'black', 'pink', 'yellow']\n",
            "['green', 'white', 'black']\n"
          ]
        }
      ]
    },
    {
      "cell_type": "code",
      "source": [
        "txt=\"Hello\"[::-1]\n",
        "print(txt)"
      ],
      "metadata": {
        "colab": {
          "base_uri": "https://localhost:8080/"
        },
        "id": "AZBsRPZd7iMD",
        "outputId": "d13be11b-589f-422f-fdb1-c5adf39218cc"
      },
      "execution_count": null,
      "outputs": [
        {
          "output_type": "stream",
          "name": "stdout",
          "text": [
            "olleH\n"
          ]
        }
      ]
    },
    {
      "cell_type": "code",
      "source": [
        "my_list=[10,20,30,40,50]\n",
        "avg=sum(my_list)/len(my_list)\n",
        "print(\"average of all the elements:\",round(avg,3))"
      ],
      "metadata": {
        "colab": {
          "base_uri": "https://localhost:8080/",
          "height": 200
        },
        "id": "Xk-cBG68DOEO",
        "outputId": "d93bafce-78f8-4c65-9acb-4c42ff58b7e4"
      },
      "execution_count": null,
      "outputs": [
        {
          "output_type": "error",
          "ename": "TypeError",
          "evalue": "ignored",
          "traceback": [
            "\u001b[0;31m---------------------------------------------------------------------------\u001b[0m",
            "\u001b[0;31mTypeError\u001b[0m                                 Traceback (most recent call last)",
            "\u001b[0;32m<ipython-input-49-7a35df38a13d>\u001b[0m in \u001b[0;36m<module>\u001b[0;34m\u001b[0m\n\u001b[1;32m      1\u001b[0m \u001b[0mmy_list\u001b[0m\u001b[0;34m=\u001b[0m\u001b[0;34m[\u001b[0m\u001b[0;36m10\u001b[0m\u001b[0;34m,\u001b[0m\u001b[0;36m20\u001b[0m\u001b[0;34m,\u001b[0m\u001b[0;36m30\u001b[0m\u001b[0;34m,\u001b[0m\u001b[0;36m40\u001b[0m\u001b[0;34m,\u001b[0m\u001b[0;36m50\u001b[0m\u001b[0;34m]\u001b[0m\u001b[0;34m\u001b[0m\u001b[0;34m\u001b[0m\u001b[0m\n\u001b[0;32m----> 2\u001b[0;31m \u001b[0mavg\u001b[0m\u001b[0;34m=\u001b[0m\u001b[0msum\u001b[0m\u001b[0;34m(\u001b[0m\u001b[0mmy_list\u001b[0m\u001b[0;34m)\u001b[0m\u001b[0;34m/\u001b[0m\u001b[0mlen\u001b[0m\u001b[0;34m(\u001b[0m\u001b[0mmy_list\u001b[0m\u001b[0;34m)\u001b[0m\u001b[0;34m\u001b[0m\u001b[0;34m\u001b[0m\u001b[0m\n\u001b[0m\u001b[1;32m      3\u001b[0m \u001b[0mprint\u001b[0m\u001b[0;34m(\u001b[0m\u001b[0;34m\"average of all the elements:\"\u001b[0m\u001b[0;34m,\u001b[0m\u001b[0mround\u001b[0m\u001b[0;34m(\u001b[0m\u001b[0mavg\u001b[0m\u001b[0;34m,\u001b[0m\u001b[0;36m3\u001b[0m\u001b[0;34m)\u001b[0m\u001b[0;34m)\u001b[0m\u001b[0;34m\u001b[0m\u001b[0;34m\u001b[0m\u001b[0m\n",
            "\u001b[0;31mTypeError\u001b[0m: 'int' object is not callable"
          ]
        }
      ]
    },
    {
      "cell_type": "code",
      "source": [
        "n=int(input())\n",
        "for i in range(0,n):\n",
        "  name=input()\n",
        "  password=input()\n",
        "  print(name)\n",
        "  print(password)"
      ],
      "metadata": {
        "colab": {
          "base_uri": "https://localhost:8080/"
        },
        "id": "twn1VDKJBxa4",
        "outputId": "aa6ae51e-5ef5-410b-a739-3299fbfe1e5c"
      },
      "execution_count": 4,
      "outputs": [
        {
          "output_type": "stream",
          "name": "stdout",
          "text": [
            "2\n",
            "abcd\n",
            "123\n",
            "abcd\n",
            "123\n",
            "fgvfv\n",
            "567\n",
            "fgvfv\n",
            "567\n"
          ]
        }
      ]
    },
    {
      "cell_type": "code",
      "source": [
        "n=int(input())\n",
        "arr=[]\n",
        "for i in range(n):\n",
        "  username=input(\"username:\")\n",
        "  password=input(\"password\")\n",
        "  arr.append({username:password})\n",
        "\n",
        "print(arr)"
      ],
      "metadata": {
        "colab": {
          "base_uri": "https://localhost:8080/"
        },
        "id": "m1Gvjsf7DWDQ",
        "outputId": "67062269-96cb-4c94-e547-0d9f7833b163"
      },
      "execution_count": 5,
      "outputs": [
        {
          "output_type": "stream",
          "name": "stdout",
          "text": [
            "2\n",
            "username:lucky\n",
            "password1234\n",
            "username:maha\n",
            "password56\n",
            "[{'lucky': '1234'}, {'maha': '56'}]\n"
          ]
        }
      ]
    },
    {
      "cell_type": "code",
      "source": [
        "n=int(input())\n",
        "arr=[]\n",
        "for i in range(n):\n",
        "  username=input(\"username:\")\n",
        "  password=input(\"password\")\n",
        "  arr.append({username:password})\n",
        "print(arr)\n",
        "u=input(\"username:\")\n",
        "p=input(\"password\")\n",
        "found=False\n",
        "for obj in arr:\n",
        "  try:\n",
        "    password=obj[u]\n",
        "    found=True\n",
        "    if p==password:\n",
        "      print(\"valid password\")\n",
        "    else:\n",
        "      print(\"invalid password\")\n",
        "  except:\n",
        "    pass\n",
        "if found==False:\n",
        "  print(\"user not found\")"
      ],
      "metadata": {
        "colab": {
          "base_uri": "https://localhost:8080/"
        },
        "id": "Jc8TgleaHwnF",
        "outputId": "01a658e1-cb1d-4529-c8de-4b8cff82c045"
      },
      "execution_count": 10,
      "outputs": [
        {
          "output_type": "stream",
          "name": "stdout",
          "text": [
            "2\n",
            "username:lucky\n",
            "password1234\n",
            "username:sath\n",
            "password3456\n",
            "[{'lucky': '1234'}, {'sath': '3456'}]\n",
            "username:lucky\n",
            "password1234\n",
            "valid password\n"
          ]
        }
      ]
    },
    {
      "cell_type": "code",
      "source": [
        "stack=[]\n",
        "stack.append(1)\n",
        "stack.append(2)\n",
        "stack.append(3)\n",
        "stack.append(4)\n",
        "stack.append(5)\n",
        "print(stack)\n",
        "stack.pop()\n",
        "print(stack)"
      ],
      "metadata": {
        "colab": {
          "base_uri": "https://localhost:8080/"
        },
        "id": "UkC8hgYJJYu-",
        "outputId": "4d6d8e05-87d3-4b9d-98b3-edf99ac6b336"
      },
      "execution_count": 13,
      "outputs": [
        {
          "output_type": "stream",
          "name": "stdout",
          "text": [
            "[1, 2, 3, 4, 5]\n",
            "[1, 2, 3, 4]\n"
          ]
        }
      ]
    },
    {
      "cell_type": "code",
      "source": [],
      "metadata": {
        "id": "2a63R0dHLSJY"
      },
      "execution_count": null,
      "outputs": []
    }
  ],
  "metadata": {
    "colab": {
      "provenance": [],
      "authorship_tag": "ABX9TyNQEw2GnSMi0RV2znK6Dq5y",
      "include_colab_link": true
    },
    "kernelspec": {
      "display_name": "Python 3",
      "name": "python3"
    },
    "language_info": {
      "name": "python"
    }
  },
  "nbformat": 4,
  "nbformat_minor": 0
}